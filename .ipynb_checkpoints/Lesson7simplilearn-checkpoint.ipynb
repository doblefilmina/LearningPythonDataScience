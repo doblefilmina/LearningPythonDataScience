{
 "cells": [
  {
   "cell_type": "code",
   "execution_count": 2,
   "id": "12d655c9",
   "metadata": {},
   "outputs": [],
   "source": [
    "import numpy as np\n",
    "import pandas as pd"
   ]
  },
  {
   "cell_type": "code",
   "execution_count": 2,
   "id": "a4aed1d6",
   "metadata": {},
   "outputs": [
    {
     "data": {
      "text/plain": [
       "['a', 'b', 'c', 'd', 'f']"
      ]
     },
     "execution_count": 2,
     "metadata": {},
     "output_type": "execute_result"
    }
   ],
   "source": [
    "lista = list('abcdf')\n",
    "lista"
   ]
  },
  {
   "cell_type": "code",
   "execution_count": 4,
   "id": "2d21b229",
   "metadata": {},
   "outputs": [
    {
     "name": "stdout",
     "output_type": "stream",
     "text": [
      "0    a\n",
      "1    b\n",
      "2    c\n",
      "3    d\n",
      "4    f\n",
      "dtype: object\n"
     ]
    }
   ],
   "source": [
    "first_series = pd.Series(lista)\n",
    "print(first_series)"
   ]
  },
  {
   "cell_type": "code",
   "execution_count": 5,
   "id": "c9df9222",
   "metadata": {},
   "outputs": [],
   "source": [
    "np_country = np.array(['Luxembourg', 'Norway', 'Japan', 'Switzerland', 'United States', 'Qatar', 'Iceland', 'Sewden', 'Singapore', 'Denmark'])"
   ]
  },
  {
   "cell_type": "code",
   "execution_count": 6,
   "id": "0a78ddd8",
   "metadata": {},
   "outputs": [],
   "source": [
    "s_country = pd.Series(np_country)"
   ]
  },
  {
   "cell_type": "code",
   "execution_count": 7,
   "id": "a25816d7",
   "metadata": {},
   "outputs": [
    {
     "name": "stdout",
     "output_type": "stream",
     "text": [
      "0       Luxembourg\n",
      "1           Norway\n",
      "2            Japan\n",
      "3      Switzerland\n",
      "4    United States\n",
      "5            Qatar\n",
      "6          Iceland\n",
      "7           Sewden\n",
      "8        Singapore\n",
      "9          Denmark\n",
      "dtype: object\n"
     ]
    }
   ],
   "source": [
    "print(s_country)"
   ]
  },
  {
   "cell_type": "code",
   "execution_count": 8,
   "id": "e68097a9",
   "metadata": {},
   "outputs": [
    {
     "name": "stdout",
     "output_type": "stream",
     "text": [
      "Algeria           2255.225482\n",
      "Angola             629.955306\n",
      "Argentina        11601.630220\n",
      "Australia        25306.824940\n",
      "Austria          27266.403350\n",
      "                     ...     \n",
      "United States    37691.027330\n",
      "Uruguay           9581.056590\n",
      "Venezuela         5671.912202\n",
      "Vietnam            757.400929\n",
      "Zimbabwe           347.745660\n",
      "Length: 63, dtype: float64\n"
     ]
    }
   ],
   "source": [
    "dict_country_gdp = pd.Series([2255.225482,629.9553062,11601.63022,25306.82494,27266.40335,19466.99052,588.3691778,\n",
    "                              2890.345675,24733.62696,1445.760002,4803.398244,2618.876037,590.4521124,665.7982328,\n",
    "                              7122.938458,2639.54156,3362.4656,15378.16704,30860.12808,2579.115607,6525.541272,\n",
    "                              229.6769525,2242.689259,27570.4852,23016.84778,1334.646773,402.6953275,6047.200797,\n",
    "                              394.1156638,385.5793827,1414.072488,5745.981529,837.7464011,1206.991065,27715.52837,\n",
    "                              18937.24998,39578.07441,478.2194906,16684.21278,279.2204061,5345.213415,6288.25324,\n",
    "                              1908.304416,274.8728621,14646.42094,40034.85063,672.1547506,3359.517402,36152.66676,\n",
    "                              3054.727742,33529.83052,3825.093781,15428.32098,33630.24604,39170.41371,2699.123242,\n",
    "                              21058.43643,28272.40661,37691.02733,9581.05659,5671.912202,757.4009286,347.7456605],\n",
    "                             index=['Algeria','Angola','Argentina','Australia','Austria','Bahamas','Bangladesh',\n",
    "                                    'Belarus','Belgium','Bhutan','Brazil','Bulgaria','Cambodia','Cameroon','Chile',\n",
    "                                    'China','Colombia','Cyprus','Denmark','El Salvador','Estonia','Ethiopia','Fiji',\n",
    "                                    'Finland','France','Georgia','Ghana','Grenada','Guinea','Haiti','Honduras',\n",
    "                                    'Hungary','India','Indonesia','Ireland','Italy','Japan','Kenya', 'South Korea',\n",
    "                                    'Liberia','Malaysia','Mexico', 'Morocco','Nepal','New Zealand','Norway','Pakistan',\n",
    "                                    'Peru','Qatar','Russia','Singapore','South Africa','Spain','Sweden','Switzerland',\n",
    "                                    'Thailand', 'United Arab Emirates','United Kingdom','United States','Uruguay',\n",
    "                                    'Venezuela','Vietnam','Zimbabwe'])\n",
    "print(dict_country_gdp)\n",
    "                              "
   ]
  },
  {
   "cell_type": "code",
   "execution_count": 10,
   "id": "87604b20",
   "metadata": {},
   "outputs": [
    {
     "data": {
      "text/plain": [
       "a    5.0\n",
       "b    5.0\n",
       "c    5.0\n",
       "d    5.0\n",
       "e    5.0\n",
       "dtype: float64"
      ]
     },
     "execution_count": 10,
     "metadata": {},
     "output_type": "execute_result"
    }
   ],
   "source": [
    "#Print series with scalar input\n",
    "scalar_series = pd.Series(5., index=list('abcde'))\n",
    "scalar_series"
   ]
  },
  {
   "cell_type": "code",
   "execution_count": 11,
   "id": "da091ec5",
   "metadata": {},
   "outputs": [
    {
     "data": {
      "text/plain": [
       "2255.225482"
      ]
     },
     "execution_count": 11,
     "metadata": {},
     "output_type": "execute_result"
    }
   ],
   "source": [
    "#access elements in the series\n",
    "dict_country_gdp[0]"
   ]
  },
  {
   "cell_type": "code",
   "execution_count": 12,
   "id": "cc05fe2e",
   "metadata": {},
   "outputs": [
    {
     "data": {
      "text/plain": [
       "Algeria       2255.225482\n",
       "Angola         629.955306\n",
       "Argentina    11601.630220\n",
       "Australia    25306.824940\n",
       "Austria      27266.403350\n",
       "dtype: float64"
      ]
     },
     "execution_count": 12,
     "metadata": {},
     "output_type": "execute_result"
    }
   ],
   "source": [
    "#access first 5 countries from the series\n",
    "dict_country_gdp[0:5]"
   ]
  },
  {
   "cell_type": "code",
   "execution_count": 13,
   "id": "aa8af7d7",
   "metadata": {},
   "outputs": [
    {
     "data": {
      "text/plain": [
       "37691.02733"
      ]
     },
     "execution_count": 13,
     "metadata": {},
     "output_type": "execute_result"
    }
   ],
   "source": [
    "#look up a country by name or index\n",
    "dict_country_gdp.loc['United States']"
   ]
  },
  {
   "cell_type": "code",
   "execution_count": 14,
   "id": "16c88871",
   "metadata": {},
   "outputs": [
    {
     "data": {
      "text/plain": [
       "25306.82494"
      ]
     },
     "execution_count": 14,
     "metadata": {},
     "output_type": "execute_result"
    }
   ],
   "source": [
    "#Look up by position\n",
    "dict_country_gdp.iloc[3]"
   ]
  },
  {
   "cell_type": "code",
   "execution_count": 17,
   "id": "0c93d173",
   "metadata": {},
   "outputs": [
    {
     "name": "stdout",
     "output_type": "stream",
     "text": [
      "a    1\n",
      "b    2\n",
      "c    3\n",
      "d    4\n",
      "dtype: int64\n",
      "a    10\n",
      "d    20\n",
      "b    30\n",
      "c    40\n",
      "dtype: int64\n"
     ]
    }
   ],
   "source": [
    "first_vector_series = pd.Series([1,2,3,4], index = list('abcd'))\n",
    "second_vector_series = pd.Series([10,20,30,40], index=list('adbc'))\n",
    "print(first_vector_series)\n",
    "print(second_vector_series)"
   ]
  },
  {
   "cell_type": "code",
   "execution_count": 18,
   "id": "4439299c",
   "metadata": {},
   "outputs": [
    {
     "data": {
      "text/plain": [
       "a    11\n",
       "b    32\n",
       "c    43\n",
       "d    24\n",
       "dtype: int64"
      ]
     },
     "execution_count": 18,
     "metadata": {},
     "output_type": "execute_result"
    }
   ],
   "source": [
    "first_vector_series + second_vector_series"
   ]
  },
  {
   "cell_type": "code",
   "execution_count": 19,
   "id": "0115acc3",
   "metadata": {},
   "outputs": [],
   "source": [
    "second_vector_series = pd.Series([10,20,30,40], index=list('adef'))"
   ]
  },
  {
   "cell_type": "code",
   "execution_count": 20,
   "id": "fcce5a3b",
   "metadata": {},
   "outputs": [
    {
     "data": {
      "text/plain": [
       "a    11.0\n",
       "b     NaN\n",
       "c     NaN\n",
       "d    24.0\n",
       "e     NaN\n",
       "f     NaN\n",
       "dtype: float64"
      ]
     },
     "execution_count": 20,
     "metadata": {},
     "output_type": "execute_result"
    }
   ],
   "source": [
    "first_vector_series + second_vector_series"
   ]
  },
  {
   "cell_type": "code",
   "execution_count": 21,
   "id": "a6fbd652",
   "metadata": {},
   "outputs": [
    {
     "data": {
      "text/plain": [
       "dict"
      ]
     },
     "execution_count": 21,
     "metadata": {},
     "output_type": "execute_result"
    }
   ],
   "source": [
    "#Create a data frame\n",
    "#Last five olympics data: place, year and number of countries participated\n",
    "olympic_data_list = {'HostCity': ['London', 'Beijing', 'Athens', 'Sydney', 'Atlanta'],\n",
    "                    'Year': [2012,2008,2004,2000,1996],\n",
    "                    'No. of Participating Countries': [205,204,201,200,197]\n",
    "                    }\n",
    "type(olympic_data_list)"
   ]
  },
  {
   "cell_type": "code",
   "execution_count": 22,
   "id": "bd5b4b46",
   "metadata": {},
   "outputs": [
    {
     "name": "stdout",
     "output_type": "stream",
     "text": [
      "{'HostCity': ['London', 'Beijing', 'Athens', 'Sydney', 'Atlanta'], 'Year': [2012, 2008, 2004, 2000, 1996], 'No. of Participating Countries': [205, 204, 201, 200, 197]}\n"
     ]
    }
   ],
   "source": [
    "print(olympic_data_list)"
   ]
  },
  {
   "cell_type": "code",
   "execution_count": 24,
   "id": "f8cc0914",
   "metadata": {},
   "outputs": [],
   "source": [
    "df_olympic_data = pd.DataFrame(olympic_data_list)"
   ]
  },
  {
   "cell_type": "code",
   "execution_count": 25,
   "id": "70d580ef",
   "metadata": {},
   "outputs": [
    {
     "data": {
      "text/html": [
       "<div>\n",
       "<style scoped>\n",
       "    .dataframe tbody tr th:only-of-type {\n",
       "        vertical-align: middle;\n",
       "    }\n",
       "\n",
       "    .dataframe tbody tr th {\n",
       "        vertical-align: top;\n",
       "    }\n",
       "\n",
       "    .dataframe thead th {\n",
       "        text-align: right;\n",
       "    }\n",
       "</style>\n",
       "<table border=\"1\" class=\"dataframe\">\n",
       "  <thead>\n",
       "    <tr style=\"text-align: right;\">\n",
       "      <th></th>\n",
       "      <th>HostCity</th>\n",
       "      <th>Year</th>\n",
       "      <th>No. of Participating Countries</th>\n",
       "    </tr>\n",
       "  </thead>\n",
       "  <tbody>\n",
       "    <tr>\n",
       "      <th>0</th>\n",
       "      <td>London</td>\n",
       "      <td>2012</td>\n",
       "      <td>205</td>\n",
       "    </tr>\n",
       "    <tr>\n",
       "      <th>1</th>\n",
       "      <td>Beijing</td>\n",
       "      <td>2008</td>\n",
       "      <td>204</td>\n",
       "    </tr>\n",
       "    <tr>\n",
       "      <th>2</th>\n",
       "      <td>Athens</td>\n",
       "      <td>2004</td>\n",
       "      <td>201</td>\n",
       "    </tr>\n",
       "    <tr>\n",
       "      <th>3</th>\n",
       "      <td>Sydney</td>\n",
       "      <td>2000</td>\n",
       "      <td>200</td>\n",
       "    </tr>\n",
       "    <tr>\n",
       "      <th>4</th>\n",
       "      <td>Atlanta</td>\n",
       "      <td>1996</td>\n",
       "      <td>197</td>\n",
       "    </tr>\n",
       "  </tbody>\n",
       "</table>\n",
       "</div>"
      ],
      "text/plain": [
       "  HostCity  Year  No. of Participating Countries\n",
       "0   London  2012                             205\n",
       "1  Beijing  2008                             204\n",
       "2   Athens  2004                             201\n",
       "3   Sydney  2000                             200\n",
       "4  Atlanta  1996                             197"
      ]
     },
     "execution_count": 25,
     "metadata": {},
     "output_type": "execute_result"
    }
   ],
   "source": [
    "df_olympic_data"
   ]
  },
  {
   "cell_type": "code",
   "execution_count": 30,
   "id": "22f9145a",
   "metadata": {},
   "outputs": [
    {
     "data": {
      "text/plain": [
       "{'London': {2012: 205}, 'Beijing': {2008: 204}}"
      ]
     },
     "execution_count": 30,
     "metadata": {},
     "output_type": "execute_result"
    }
   ],
   "source": [
    "olympic_data_dict = {'London':{2012:205}, 'Beijing': {2008:204}}\n",
    "olympic_data_dict"
   ]
  },
  {
   "cell_type": "code",
   "execution_count": 27,
   "id": "2f6576db",
   "metadata": {},
   "outputs": [],
   "source": [
    "df_olympic_data_dict = pd.DataFrame(olympic_data_dict)"
   ]
  },
  {
   "cell_type": "code",
   "execution_count": 28,
   "id": "86a95368",
   "metadata": {},
   "outputs": [
    {
     "data": {
      "text/html": [
       "<div>\n",
       "<style scoped>\n",
       "    .dataframe tbody tr th:only-of-type {\n",
       "        vertical-align: middle;\n",
       "    }\n",
       "\n",
       "    .dataframe tbody tr th {\n",
       "        vertical-align: top;\n",
       "    }\n",
       "\n",
       "    .dataframe thead th {\n",
       "        text-align: right;\n",
       "    }\n",
       "</style>\n",
       "<table border=\"1\" class=\"dataframe\">\n",
       "  <thead>\n",
       "    <tr style=\"text-align: right;\">\n",
       "      <th></th>\n",
       "      <th>London</th>\n",
       "      <th>Beijing</th>\n",
       "    </tr>\n",
       "  </thead>\n",
       "  <tbody>\n",
       "    <tr>\n",
       "      <th>2012</th>\n",
       "      <td>205.0</td>\n",
       "      <td>NaN</td>\n",
       "    </tr>\n",
       "    <tr>\n",
       "      <th>2008</th>\n",
       "      <td>NaN</td>\n",
       "      <td>204.0</td>\n",
       "    </tr>\n",
       "  </tbody>\n",
       "</table>\n",
       "</div>"
      ],
      "text/plain": [
       "      London  Beijing\n",
       "2012   205.0      NaN\n",
       "2008     NaN    204.0"
      ]
     },
     "execution_count": 28,
     "metadata": {},
     "output_type": "execute_result"
    }
   ],
   "source": [
    "df_olympic_data_dict"
   ]
  },
  {
   "cell_type": "code",
   "execution_count": 31,
   "id": "b23f8498",
   "metadata": {},
   "outputs": [
    {
     "data": {
      "text/plain": [
       "0     London\n",
       "1    Beijing\n",
       "2     Athens\n",
       "3     Sydney\n",
       "4    Atlanta\n",
       "Name: HostCity, dtype: object"
      ]
     },
     "execution_count": 31,
     "metadata": {},
     "output_type": "execute_result"
    }
   ],
   "source": [
    "df_olympic_data.HostCity"
   ]
  },
  {
   "cell_type": "code",
   "execution_count": 32,
   "id": "7e280e4c",
   "metadata": {},
   "outputs": [
    {
     "data": {
      "text/plain": [
       "<bound method NDFrame.describe of   HostCity  Year  No. of Participating Countries\n",
       "0   London  2012                             205\n",
       "1  Beijing  2008                             204\n",
       "2   Athens  2004                             201\n",
       "3   Sydney  2000                             200\n",
       "4  Atlanta  1996                             197>"
      ]
     },
     "execution_count": 32,
     "metadata": {},
     "output_type": "execute_result"
    }
   ],
   "source": [
    "#use describe function to display the content\n",
    "df_olympic_data.describe"
   ]
  },
  {
   "cell_type": "code",
   "execution_count": 33,
   "id": "d0223b02",
   "metadata": {},
   "outputs": [],
   "source": [
    "olympic_series_participation = pd.Series([205,204,201,200,197], index=[2012,2008,2004,2000,1996])\n",
    "olympic_series_country = pd.Series(['London', 'Beijing', 'Athens', 'Sydney', 'Atlanta'], index=[2012,2008,2004,2000,1996])"
   ]
  },
  {
   "cell_type": "code",
   "execution_count": 34,
   "id": "ded09db6",
   "metadata": {},
   "outputs": [],
   "source": [
    "df_olympic_series=pd.DataFrame({'No of participating countries': olympic_series_participation,\n",
    "                               'Host cities': olympic_series_country})"
   ]
  },
  {
   "cell_type": "code",
   "execution_count": 35,
   "id": "6d88abc0",
   "metadata": {},
   "outputs": [
    {
     "data": {
      "text/html": [
       "<div>\n",
       "<style scoped>\n",
       "    .dataframe tbody tr th:only-of-type {\n",
       "        vertical-align: middle;\n",
       "    }\n",
       "\n",
       "    .dataframe tbody tr th {\n",
       "        vertical-align: top;\n",
       "    }\n",
       "\n",
       "    .dataframe thead th {\n",
       "        text-align: right;\n",
       "    }\n",
       "</style>\n",
       "<table border=\"1\" class=\"dataframe\">\n",
       "  <thead>\n",
       "    <tr style=\"text-align: right;\">\n",
       "      <th></th>\n",
       "      <th>No of participating countries</th>\n",
       "      <th>Host cities</th>\n",
       "    </tr>\n",
       "  </thead>\n",
       "  <tbody>\n",
       "    <tr>\n",
       "      <th>2012</th>\n",
       "      <td>205</td>\n",
       "      <td>London</td>\n",
       "    </tr>\n",
       "    <tr>\n",
       "      <th>2008</th>\n",
       "      <td>204</td>\n",
       "      <td>Beijing</td>\n",
       "    </tr>\n",
       "    <tr>\n",
       "      <th>2004</th>\n",
       "      <td>201</td>\n",
       "      <td>Athens</td>\n",
       "    </tr>\n",
       "    <tr>\n",
       "      <th>2000</th>\n",
       "      <td>200</td>\n",
       "      <td>Sydney</td>\n",
       "    </tr>\n",
       "    <tr>\n",
       "      <th>1996</th>\n",
       "      <td>197</td>\n",
       "      <td>Atlanta</td>\n",
       "    </tr>\n",
       "  </tbody>\n",
       "</table>\n",
       "</div>"
      ],
      "text/plain": [
       "      No of participating countries Host cities\n",
       "2012                            205      London\n",
       "2008                            204     Beijing\n",
       "2004                            201      Athens\n",
       "2000                            200      Sydney\n",
       "1996                            197     Atlanta"
      ]
     },
     "execution_count": 35,
     "metadata": {},
     "output_type": "execute_result"
    }
   ],
   "source": [
    "df_olympic_series"
   ]
  },
  {
   "cell_type": "code",
   "execution_count": 36,
   "id": "43579ea1",
   "metadata": {},
   "outputs": [],
   "source": [
    "np_array = np.array([2012,2008,2004,2000,1996])\n",
    "dict_ndarray = {'year': np_array}"
   ]
  },
  {
   "cell_type": "code",
   "execution_count": 37,
   "id": "7adcad92",
   "metadata": {},
   "outputs": [],
   "source": [
    "df_ndarray = pd.DataFrame(dict_ndarray)"
   ]
  },
  {
   "cell_type": "code",
   "execution_count": 38,
   "id": "80b1712a",
   "metadata": {},
   "outputs": [
    {
     "data": {
      "text/html": [
       "<div>\n",
       "<style scoped>\n",
       "    .dataframe tbody tr th:only-of-type {\n",
       "        vertical-align: middle;\n",
       "    }\n",
       "\n",
       "    .dataframe tbody tr th {\n",
       "        vertical-align: top;\n",
       "    }\n",
       "\n",
       "    .dataframe thead th {\n",
       "        text-align: right;\n",
       "    }\n",
       "</style>\n",
       "<table border=\"1\" class=\"dataframe\">\n",
       "  <thead>\n",
       "    <tr style=\"text-align: right;\">\n",
       "      <th></th>\n",
       "      <th>year</th>\n",
       "    </tr>\n",
       "  </thead>\n",
       "  <tbody>\n",
       "    <tr>\n",
       "      <th>0</th>\n",
       "      <td>2012</td>\n",
       "    </tr>\n",
       "    <tr>\n",
       "      <th>1</th>\n",
       "      <td>2008</td>\n",
       "    </tr>\n",
       "    <tr>\n",
       "      <th>2</th>\n",
       "      <td>2004</td>\n",
       "    </tr>\n",
       "    <tr>\n",
       "      <th>3</th>\n",
       "      <td>2000</td>\n",
       "    </tr>\n",
       "    <tr>\n",
       "      <th>4</th>\n",
       "      <td>1996</td>\n",
       "    </tr>\n",
       "  </tbody>\n",
       "</table>\n",
       "</div>"
      ],
      "text/plain": [
       "   year\n",
       "0  2012\n",
       "1  2008\n",
       "2  2004\n",
       "3  2000\n",
       "4  1996"
      ]
     },
     "execution_count": 38,
     "metadata": {},
     "output_type": "execute_result"
    }
   ],
   "source": [
    "df_ndarray"
   ]
  },
  {
   "cell_type": "code",
   "execution_count": 39,
   "id": "2f2c1604",
   "metadata": {},
   "outputs": [],
   "source": [
    "df_from_df = pd.DataFrame(df_olympic_series)"
   ]
  },
  {
   "cell_type": "code",
   "execution_count": 40,
   "id": "1c48b9bb",
   "metadata": {},
   "outputs": [
    {
     "data": {
      "text/html": [
       "<div>\n",
       "<style scoped>\n",
       "    .dataframe tbody tr th:only-of-type {\n",
       "        vertical-align: middle;\n",
       "    }\n",
       "\n",
       "    .dataframe tbody tr th {\n",
       "        vertical-align: top;\n",
       "    }\n",
       "\n",
       "    .dataframe thead th {\n",
       "        text-align: right;\n",
       "    }\n",
       "</style>\n",
       "<table border=\"1\" class=\"dataframe\">\n",
       "  <thead>\n",
       "    <tr style=\"text-align: right;\">\n",
       "      <th></th>\n",
       "      <th>No of participating countries</th>\n",
       "      <th>Host cities</th>\n",
       "    </tr>\n",
       "  </thead>\n",
       "  <tbody>\n",
       "    <tr>\n",
       "      <th>2012</th>\n",
       "      <td>205</td>\n",
       "      <td>London</td>\n",
       "    </tr>\n",
       "    <tr>\n",
       "      <th>2008</th>\n",
       "      <td>204</td>\n",
       "      <td>Beijing</td>\n",
       "    </tr>\n",
       "    <tr>\n",
       "      <th>2004</th>\n",
       "      <td>201</td>\n",
       "      <td>Athens</td>\n",
       "    </tr>\n",
       "    <tr>\n",
       "      <th>2000</th>\n",
       "      <td>200</td>\n",
       "      <td>Sydney</td>\n",
       "    </tr>\n",
       "    <tr>\n",
       "      <th>1996</th>\n",
       "      <td>197</td>\n",
       "      <td>Atlanta</td>\n",
       "    </tr>\n",
       "  </tbody>\n",
       "</table>\n",
       "</div>"
      ],
      "text/plain": [
       "      No of participating countries Host cities\n",
       "2012                            205      London\n",
       "2008                            204     Beijing\n",
       "2004                            201      Athens\n",
       "2000                            200      Sydney\n",
       "1996                            197     Atlanta"
      ]
     },
     "execution_count": 40,
     "metadata": {},
     "output_type": "execute_result"
    }
   ],
   "source": [
    "df_from_df"
   ]
  },
  {
   "cell_type": "code",
   "execution_count": 5,
   "id": "73d12d1c",
   "metadata": {},
   "outputs": [
    {
     "name": "stdout",
     "output_type": "stream",
     "text": [
      "a    1\n",
      "b    2\n",
      "c    3\n",
      "d    4\n",
      "e    5\n",
      "dtype: int64\n",
      "c    10\n",
      "e    20\n",
      "f    30\n",
      "g    40\n",
      "h    50\n",
      "dtype: int64\n"
     ]
    }
   ],
   "source": [
    "first_vector_series = pd.Series([1,2,3,4,5], index = list('abcde'))\n",
    "second_vector_series = pd.Series([10,20,30,40,50], index=list('cefgh'))\n",
    "print(first_vector_series)\n",
    "print(second_vector_series)"
   ]
  },
  {
   "cell_type": "code",
   "execution_count": 6,
   "id": "560e1032",
   "metadata": {},
   "outputs": [],
   "source": [
    "sum_of_series=first_vector_series + second_vector_series"
   ]
  },
  {
   "cell_type": "code",
   "execution_count": 7,
   "id": "1d1a9d96",
   "metadata": {},
   "outputs": [
    {
     "data": {
      "text/plain": [
       "a     NaN\n",
       "b     NaN\n",
       "c    13.0\n",
       "d     NaN\n",
       "e    25.0\n",
       "f     NaN\n",
       "g     NaN\n",
       "h     NaN\n",
       "dtype: float64"
      ]
     },
     "execution_count": 7,
     "metadata": {},
     "output_type": "execute_result"
    }
   ],
   "source": [
    "sum_of_series"
   ]
  },
  {
   "cell_type": "code",
   "execution_count": 11,
   "id": "d30fd531",
   "metadata": {},
   "outputs": [
    {
     "data": {
      "text/plain": [
       "c    13.0\n",
       "e    25.0\n",
       "dtype: float64"
      ]
     },
     "execution_count": 11,
     "metadata": {},
     "output_type": "execute_result"
    }
   ],
   "source": [
    "#drop NaN values from dataset\n",
    "dropna_s= sum_of_series.dropna()\n",
    "dropna_s"
   ]
  },
  {
   "cell_type": "code",
   "execution_count": 12,
   "id": "741cf19b",
   "metadata": {},
   "outputs": [
    {
     "data": {
      "text/plain": [
       "a     0.0\n",
       "b     0.0\n",
       "c    13.0\n",
       "d     0.0\n",
       "e    25.0\n",
       "f     0.0\n",
       "g     0.0\n",
       "h     0.0\n",
       "dtype: float64"
      ]
     },
     "execution_count": 12,
     "metadata": {},
     "output_type": "execute_result"
    }
   ],
   "source": [
    "#Fill NaN values with zeroes\n",
    "fillna_s = sum_of_series.fillna(0)\n",
    "fillna_s"
   ]
  },
  {
   "cell_type": "code",
   "execution_count": 14,
   "id": "53cd84de",
   "metadata": {},
   "outputs": [
    {
     "data": {
      "text/plain": [
       "a     1.0\n",
       "b     2.0\n",
       "c    13.0\n",
       "d     4.0\n",
       "e    25.0\n",
       "f    30.0\n",
       "g    40.0\n",
       "h    50.0\n",
       "dtype: float64"
      ]
     },
     "execution_count": 14,
     "metadata": {},
     "output_type": "execute_result"
    }
   ],
   "source": [
    "#fill values with zeroes before performing addition operation for missing indices\n",
    "fill_with_zeroes_before_sum = first_vector_series.add(second_vector_series, fill_value=0)\n",
    "fill_with_zeroes_before_sum"
   ]
  },
  {
   "cell_type": "code",
   "execution_count": 17,
   "id": "679d425d",
   "metadata": {},
   "outputs": [],
   "source": [
    "#declare movie rating dataframe: ratings from 1 to 5 (star*rating)\n",
    "df_movie_rating = pd.DataFrame(\n",
    "                  {'movie1':[5,4,3,3,2,1],\n",
    "                  'movie2':[4,5,2,3,4,2]},\n",
    "                   index = ['Tom', 'Jeff', 'Peter', 'Ram', 'Ted', 'Paul'] \n",
    "                )"
   ]
  },
  {
   "cell_type": "code",
   "execution_count": 18,
   "id": "a42ccf82",
   "metadata": {},
   "outputs": [
    {
     "data": {
      "text/html": [
       "<div>\n",
       "<style scoped>\n",
       "    .dataframe tbody tr th:only-of-type {\n",
       "        vertical-align: middle;\n",
       "    }\n",
       "\n",
       "    .dataframe tbody tr th {\n",
       "        vertical-align: top;\n",
       "    }\n",
       "\n",
       "    .dataframe thead th {\n",
       "        text-align: right;\n",
       "    }\n",
       "</style>\n",
       "<table border=\"1\" class=\"dataframe\">\n",
       "  <thead>\n",
       "    <tr style=\"text-align: right;\">\n",
       "      <th></th>\n",
       "      <th>movie1</th>\n",
       "      <th>movie2</th>\n",
       "    </tr>\n",
       "  </thead>\n",
       "  <tbody>\n",
       "    <tr>\n",
       "      <th>Tom</th>\n",
       "      <td>5</td>\n",
       "      <td>4</td>\n",
       "    </tr>\n",
       "    <tr>\n",
       "      <th>Jeff</th>\n",
       "      <td>4</td>\n",
       "      <td>5</td>\n",
       "    </tr>\n",
       "    <tr>\n",
       "      <th>Peter</th>\n",
       "      <td>3</td>\n",
       "      <td>2</td>\n",
       "    </tr>\n",
       "    <tr>\n",
       "      <th>Ram</th>\n",
       "      <td>3</td>\n",
       "      <td>3</td>\n",
       "    </tr>\n",
       "    <tr>\n",
       "      <th>Ted</th>\n",
       "      <td>2</td>\n",
       "      <td>4</td>\n",
       "    </tr>\n",
       "    <tr>\n",
       "      <th>Paul</th>\n",
       "      <td>1</td>\n",
       "      <td>2</td>\n",
       "    </tr>\n",
       "  </tbody>\n",
       "</table>\n",
       "</div>"
      ],
      "text/plain": [
       "       movie1  movie2\n",
       "Tom         5       4\n",
       "Jeff        4       5\n",
       "Peter       3       2\n",
       "Ram         3       3\n",
       "Ted         2       4\n",
       "Paul        1       2"
      ]
     },
     "execution_count": 18,
     "metadata": {},
     "output_type": "execute_result"
    }
   ],
   "source": [
    "df_movie_rating"
   ]
  },
  {
   "cell_type": "code",
   "execution_count": 19,
   "id": "0f1a7b45",
   "metadata": {},
   "outputs": [],
   "source": [
    "def movie_grade(rating):\n",
    "    if rating == 5:\n",
    "        return 'A'\n",
    "    if rating == 4:\n",
    "        return 'B'\n",
    "    if rating ==3:\n",
    "        return 'C'\n",
    "    else:\n",
    "        return 'F'\n",
    "    "
   ]
  },
  {
   "cell_type": "code",
   "execution_count": 20,
   "id": "18e3f20e",
   "metadata": {},
   "outputs": [
    {
     "name": "stdout",
     "output_type": "stream",
     "text": [
      "A\n"
     ]
    }
   ],
   "source": [
    "print(movie_grade(5))"
   ]
  },
  {
   "cell_type": "code",
   "execution_count": 21,
   "id": "327dd6c9",
   "metadata": {},
   "outputs": [
    {
     "data": {
      "text/html": [
       "<div>\n",
       "<style scoped>\n",
       "    .dataframe tbody tr th:only-of-type {\n",
       "        vertical-align: middle;\n",
       "    }\n",
       "\n",
       "    .dataframe tbody tr th {\n",
       "        vertical-align: top;\n",
       "    }\n",
       "\n",
       "    .dataframe thead th {\n",
       "        text-align: right;\n",
       "    }\n",
       "</style>\n",
       "<table border=\"1\" class=\"dataframe\">\n",
       "  <thead>\n",
       "    <tr style=\"text-align: right;\">\n",
       "      <th></th>\n",
       "      <th>movie1</th>\n",
       "      <th>movie2</th>\n",
       "    </tr>\n",
       "  </thead>\n",
       "  <tbody>\n",
       "    <tr>\n",
       "      <th>Tom</th>\n",
       "      <td>A</td>\n",
       "      <td>B</td>\n",
       "    </tr>\n",
       "    <tr>\n",
       "      <th>Jeff</th>\n",
       "      <td>B</td>\n",
       "      <td>A</td>\n",
       "    </tr>\n",
       "    <tr>\n",
       "      <th>Peter</th>\n",
       "      <td>C</td>\n",
       "      <td>F</td>\n",
       "    </tr>\n",
       "    <tr>\n",
       "      <th>Ram</th>\n",
       "      <td>C</td>\n",
       "      <td>C</td>\n",
       "    </tr>\n",
       "    <tr>\n",
       "      <th>Ted</th>\n",
       "      <td>F</td>\n",
       "      <td>B</td>\n",
       "    </tr>\n",
       "    <tr>\n",
       "      <th>Paul</th>\n",
       "      <td>F</td>\n",
       "      <td>F</td>\n",
       "    </tr>\n",
       "  </tbody>\n",
       "</table>\n",
       "</div>"
      ],
      "text/plain": [
       "      movie1 movie2\n",
       "Tom        A      B\n",
       "Jeff       B      A\n",
       "Peter      C      F\n",
       "Ram        C      C\n",
       "Ted        F      B\n",
       "Paul       F      F"
      ]
     },
     "execution_count": 21,
     "metadata": {},
     "output_type": "execute_result"
    }
   ],
   "source": [
    "df_movie_rating.applymap(movie_grade)"
   ]
  },
  {
   "cell_type": "code",
   "execution_count": 22,
   "id": "d0b0b010",
   "metadata": {},
   "outputs": [],
   "source": [
    "df_test_scores = pd.DataFrame(\n",
    "                {'Test1': [95,84,73,88,82,61],\n",
    "                'Test2': [74,85,82,73,79,79]},\n",
    "                index=['Jack', 'Lewis', 'Patrick', 'Rich', 'Kelly', 'Paula']\n",
    ")"
   ]
  },
  {
   "cell_type": "code",
   "execution_count": 23,
   "id": "cc815d9d",
   "metadata": {},
   "outputs": [
    {
     "data": {
      "text/html": [
       "<div>\n",
       "<style scoped>\n",
       "    .dataframe tbody tr th:only-of-type {\n",
       "        vertical-align: middle;\n",
       "    }\n",
       "\n",
       "    .dataframe tbody tr th {\n",
       "        vertical-align: top;\n",
       "    }\n",
       "\n",
       "    .dataframe thead th {\n",
       "        text-align: right;\n",
       "    }\n",
       "</style>\n",
       "<table border=\"1\" class=\"dataframe\">\n",
       "  <thead>\n",
       "    <tr style=\"text-align: right;\">\n",
       "      <th></th>\n",
       "      <th>Test1</th>\n",
       "      <th>Test2</th>\n",
       "    </tr>\n",
       "  </thead>\n",
       "  <tbody>\n",
       "    <tr>\n",
       "      <th>Jack</th>\n",
       "      <td>95</td>\n",
       "      <td>74</td>\n",
       "    </tr>\n",
       "    <tr>\n",
       "      <th>Lewis</th>\n",
       "      <td>84</td>\n",
       "      <td>85</td>\n",
       "    </tr>\n",
       "    <tr>\n",
       "      <th>Patrick</th>\n",
       "      <td>73</td>\n",
       "      <td>82</td>\n",
       "    </tr>\n",
       "    <tr>\n",
       "      <th>Rich</th>\n",
       "      <td>88</td>\n",
       "      <td>73</td>\n",
       "    </tr>\n",
       "    <tr>\n",
       "      <th>Kelly</th>\n",
       "      <td>82</td>\n",
       "      <td>79</td>\n",
       "    </tr>\n",
       "    <tr>\n",
       "      <th>Paula</th>\n",
       "      <td>61</td>\n",
       "      <td>79</td>\n",
       "    </tr>\n",
       "  </tbody>\n",
       "</table>\n",
       "</div>"
      ],
      "text/plain": [
       "         Test1  Test2\n",
       "Jack        95     74\n",
       "Lewis       84     85\n",
       "Patrick     73     82\n",
       "Rich        88     73\n",
       "Kelly       82     79\n",
       "Paula       61     79"
      ]
     },
     "execution_count": 23,
     "metadata": {},
     "output_type": "execute_result"
    }
   ],
   "source": [
    "df_test_scores"
   ]
  },
  {
   "cell_type": "code",
   "execution_count": 24,
   "id": "0bee73c9",
   "metadata": {},
   "outputs": [
    {
     "data": {
      "text/plain": [
       "Test1    95\n",
       "Test2    85\n",
       "dtype: int64"
      ]
     },
     "execution_count": 24,
     "metadata": {},
     "output_type": "execute_result"
    }
   ],
   "source": [
    "df_test_scores.max()"
   ]
  },
  {
   "cell_type": "code",
   "execution_count": 25,
   "id": "d4b095b5",
   "metadata": {},
   "outputs": [
    {
     "data": {
      "text/plain": [
       "Test1    80.500000\n",
       "Test2    78.666667\n",
       "dtype: float64"
      ]
     },
     "execution_count": 25,
     "metadata": {},
     "output_type": "execute_result"
    }
   ],
   "source": [
    "df_test_scores.mean()"
   ]
  },
  {
   "cell_type": "code",
   "execution_count": 29,
   "id": "259645d2",
   "metadata": {},
   "outputs": [
    {
     "data": {
      "text/plain": [
       "Test1    11.979149\n",
       "Test2     4.589844\n",
       "dtype: float64"
      ]
     },
     "execution_count": 29,
     "metadata": {},
     "output_type": "execute_result"
    }
   ],
   "source": [
    "df_test_scores.std()"
   ]
  },
  {
   "cell_type": "code",
   "execution_count": 31,
   "id": "1f27209f",
   "metadata": {},
   "outputs": [],
   "source": [
    "df_president_name = pd.DataFrame({'first': ['George', 'Bill', 'Ronald', 'Jimmy', 'George'],\n",
    "                                'last': ['Bush', 'Clinton', 'Regan', 'Carter', 'Washington']})"
   ]
  },
  {
   "cell_type": "code",
   "execution_count": 32,
   "id": "ee987b01",
   "metadata": {},
   "outputs": [
    {
     "data": {
      "text/html": [
       "<div>\n",
       "<style scoped>\n",
       "    .dataframe tbody tr th:only-of-type {\n",
       "        vertical-align: middle;\n",
       "    }\n",
       "\n",
       "    .dataframe tbody tr th {\n",
       "        vertical-align: top;\n",
       "    }\n",
       "\n",
       "    .dataframe thead th {\n",
       "        text-align: right;\n",
       "    }\n",
       "</style>\n",
       "<table border=\"1\" class=\"dataframe\">\n",
       "  <thead>\n",
       "    <tr style=\"text-align: right;\">\n",
       "      <th></th>\n",
       "      <th>first</th>\n",
       "      <th>last</th>\n",
       "    </tr>\n",
       "  </thead>\n",
       "  <tbody>\n",
       "    <tr>\n",
       "      <th>0</th>\n",
       "      <td>George</td>\n",
       "      <td>Bush</td>\n",
       "    </tr>\n",
       "    <tr>\n",
       "      <th>1</th>\n",
       "      <td>Bill</td>\n",
       "      <td>Clinton</td>\n",
       "    </tr>\n",
       "    <tr>\n",
       "      <th>2</th>\n",
       "      <td>Ronald</td>\n",
       "      <td>Regan</td>\n",
       "    </tr>\n",
       "    <tr>\n",
       "      <th>3</th>\n",
       "      <td>Jimmy</td>\n",
       "      <td>Carter</td>\n",
       "    </tr>\n",
       "    <tr>\n",
       "      <th>4</th>\n",
       "      <td>George</td>\n",
       "      <td>Washington</td>\n",
       "    </tr>\n",
       "  </tbody>\n",
       "</table>\n",
       "</div>"
      ],
      "text/plain": [
       "    first        last\n",
       "0  George        Bush\n",
       "1    Bill     Clinton\n",
       "2  Ronald       Regan\n",
       "3   Jimmy      Carter\n",
       "4  George  Washington"
      ]
     },
     "execution_count": 32,
     "metadata": {},
     "output_type": "execute_result"
    }
   ],
   "source": [
    "df_president_name"
   ]
  },
  {
   "cell_type": "code",
   "execution_count": 34,
   "id": "565e04a2",
   "metadata": {},
   "outputs": [],
   "source": [
    "grouped = df_president_name.groupby('first')"
   ]
  },
  {
   "cell_type": "code",
   "execution_count": 35,
   "id": "9087f22b",
   "metadata": {},
   "outputs": [
    {
     "data": {
      "text/html": [
       "<div>\n",
       "<style scoped>\n",
       "    .dataframe tbody tr th:only-of-type {\n",
       "        vertical-align: middle;\n",
       "    }\n",
       "\n",
       "    .dataframe tbody tr th {\n",
       "        vertical-align: top;\n",
       "    }\n",
       "\n",
       "    .dataframe thead th {\n",
       "        text-align: right;\n",
       "    }\n",
       "</style>\n",
       "<table border=\"1\" class=\"dataframe\">\n",
       "  <thead>\n",
       "    <tr style=\"text-align: right;\">\n",
       "      <th></th>\n",
       "      <th>first</th>\n",
       "      <th>last</th>\n",
       "    </tr>\n",
       "  </thead>\n",
       "  <tbody>\n",
       "    <tr>\n",
       "      <th>0</th>\n",
       "      <td>George</td>\n",
       "      <td>Bush</td>\n",
       "    </tr>\n",
       "    <tr>\n",
       "      <th>4</th>\n",
       "      <td>George</td>\n",
       "      <td>Washington</td>\n",
       "    </tr>\n",
       "  </tbody>\n",
       "</table>\n",
       "</div>"
      ],
      "text/plain": [
       "    first        last\n",
       "0  George        Bush\n",
       "4  George  Washington"
      ]
     },
     "execution_count": 35,
     "metadata": {},
     "output_type": "execute_result"
    }
   ],
   "source": [
    "grp_data = grouped.get_group('George')\n",
    "grp_data"
   ]
  },
  {
   "cell_type": "code",
   "execution_count": 36,
   "id": "946db1bf",
   "metadata": {
    "scrolled": true
   },
   "outputs": [
    {
     "data": {
      "text/html": [
       "<div>\n",
       "<style scoped>\n",
       "    .dataframe tbody tr th:only-of-type {\n",
       "        vertical-align: middle;\n",
       "    }\n",
       "\n",
       "    .dataframe tbody tr th {\n",
       "        vertical-align: top;\n",
       "    }\n",
       "\n",
       "    .dataframe thead th {\n",
       "        text-align: right;\n",
       "    }\n",
       "</style>\n",
       "<table border=\"1\" class=\"dataframe\">\n",
       "  <thead>\n",
       "    <tr style=\"text-align: right;\">\n",
       "      <th></th>\n",
       "      <th>first</th>\n",
       "      <th>last</th>\n",
       "    </tr>\n",
       "  </thead>\n",
       "  <tbody>\n",
       "    <tr>\n",
       "      <th>1</th>\n",
       "      <td>Bill</td>\n",
       "      <td>Clinton</td>\n",
       "    </tr>\n",
       "    <tr>\n",
       "      <th>0</th>\n",
       "      <td>George</td>\n",
       "      <td>Bush</td>\n",
       "    </tr>\n",
       "    <tr>\n",
       "      <th>4</th>\n",
       "      <td>George</td>\n",
       "      <td>Washington</td>\n",
       "    </tr>\n",
       "    <tr>\n",
       "      <th>3</th>\n",
       "      <td>Jimmy</td>\n",
       "      <td>Carter</td>\n",
       "    </tr>\n",
       "    <tr>\n",
       "      <th>2</th>\n",
       "      <td>Ronald</td>\n",
       "      <td>Regan</td>\n",
       "    </tr>\n",
       "  </tbody>\n",
       "</table>\n",
       "</div>"
      ],
      "text/plain": [
       "    first        last\n",
       "1    Bill     Clinton\n",
       "0  George        Bush\n",
       "4  George  Washington\n",
       "3   Jimmy      Carter\n",
       "2  Ronald       Regan"
      ]
     },
     "execution_count": 36,
     "metadata": {},
     "output_type": "execute_result"
    }
   ],
   "source": [
    "df_president_name.sort_values('first')"
   ]
  },
  {
   "cell_type": "code",
   "execution_count": 39,
   "id": "bfd18363",
   "metadata": {},
   "outputs": [],
   "source": [
    "def standardize_tests(test) :\n",
    "    return (test - test.mean()) /test.std() "
   ]
  },
  {
   "cell_type": "code",
   "execution_count": 40,
   "id": "d52bdefe",
   "metadata": {},
   "outputs": [
    {
     "data": {
      "text/plain": [
       "Jack       1.210437\n",
       "Lewis      0.292174\n",
       "Patrick   -0.626088\n",
       "Rich       0.626088\n",
       "Kelly      0.125218\n",
       "Paula     -1.627829\n",
       "Name: Test1, dtype: float64"
      ]
     },
     "execution_count": 40,
     "metadata": {},
     "output_type": "execute_result"
    }
   ],
   "source": [
    "standardize_tests(df_test_scores['Test1'])"
   ]
  },
  {
   "cell_type": "code",
   "execution_count": 41,
   "id": "12c6edc5",
   "metadata": {},
   "outputs": [],
   "source": [
    "def standardize_test_scores(datafrm):\n",
    "    return datafrm.apply(standardize_tests)"
   ]
  },
  {
   "cell_type": "code",
   "execution_count": 42,
   "id": "d21bb844",
   "metadata": {},
   "outputs": [
    {
     "data": {
      "text/html": [
       "<div>\n",
       "<style scoped>\n",
       "    .dataframe tbody tr th:only-of-type {\n",
       "        vertical-align: middle;\n",
       "    }\n",
       "\n",
       "    .dataframe tbody tr th {\n",
       "        vertical-align: top;\n",
       "    }\n",
       "\n",
       "    .dataframe thead th {\n",
       "        text-align: right;\n",
       "    }\n",
       "</style>\n",
       "<table border=\"1\" class=\"dataframe\">\n",
       "  <thead>\n",
       "    <tr style=\"text-align: right;\">\n",
       "      <th></th>\n",
       "      <th>Test1</th>\n",
       "      <th>Test2</th>\n",
       "    </tr>\n",
       "  </thead>\n",
       "  <tbody>\n",
       "    <tr>\n",
       "      <th>Jack</th>\n",
       "      <td>1.210437</td>\n",
       "      <td>-1.016738</td>\n",
       "    </tr>\n",
       "    <tr>\n",
       "      <th>Lewis</th>\n",
       "      <td>0.292174</td>\n",
       "      <td>1.379858</td>\n",
       "    </tr>\n",
       "    <tr>\n",
       "      <th>Patrick</th>\n",
       "      <td>-0.626088</td>\n",
       "      <td>0.726241</td>\n",
       "    </tr>\n",
       "    <tr>\n",
       "      <th>Rich</th>\n",
       "      <td>0.626088</td>\n",
       "      <td>-1.234610</td>\n",
       "    </tr>\n",
       "    <tr>\n",
       "      <th>Kelly</th>\n",
       "      <td>0.125218</td>\n",
       "      <td>0.072624</td>\n",
       "    </tr>\n",
       "    <tr>\n",
       "      <th>Paula</th>\n",
       "      <td>-1.627829</td>\n",
       "      <td>0.072624</td>\n",
       "    </tr>\n",
       "  </tbody>\n",
       "</table>\n",
       "</div>"
      ],
      "text/plain": [
       "            Test1     Test2\n",
       "Jack     1.210437 -1.016738\n",
       "Lewis    0.292174  1.379858\n",
       "Patrick -0.626088  0.726241\n",
       "Rich     0.626088 -1.234610\n",
       "Kelly    0.125218  0.072624\n",
       "Paula   -1.627829  0.072624"
      ]
     },
     "execution_count": 42,
     "metadata": {},
     "output_type": "execute_result"
    }
   ],
   "source": [
    "standardize_test_scores(df_test_scores)"
   ]
  },
  {
   "cell_type": "code",
   "execution_count": 43,
   "id": "912884fc",
   "metadata": {},
   "outputs": [],
   "source": [
    "#import pandas library\n",
    "import pandas as pd"
   ]
  },
  {
   "cell_type": "code",
   "execution_count": 45,
   "id": "d714d928",
   "metadata": {},
   "outputs": [],
   "source": [
    "#import sqllite\n",
    "import sqlite3"
   ]
  },
  {
   "cell_type": "code",
   "execution_count": 46,
   "id": "8f086b82",
   "metadata": {},
   "outputs": [],
   "source": [
    "#create SQL table\n",
    "create_table= \"\"\"\n",
    "CREATE TABLE student_score\n",
    "(Id INTEGER, Name VARCHAR(20), Math REAL,\n",
    "Science REAL\n",
    ");\"\"\""
   ]
  },
  {
   "cell_type": "code",
   "execution_count": 47,
   "id": "fab59eb0",
   "metadata": {},
   "outputs": [
    {
     "data": {
      "text/plain": [
       "'\\nCREATE TABLE student_score\\n(Id INTEGER, Name VARCHAR(20), Math REAL,\\nScience REAL\\n);'"
      ]
     },
     "execution_count": 47,
     "metadata": {},
     "output_type": "execute_result"
    }
   ],
   "source": [
    "create_table"
   ]
  },
  {
   "cell_type": "code",
   "execution_count": 50,
   "id": "70de188e",
   "metadata": {},
   "outputs": [],
   "source": [
    "#execute the SQL statement\n",
    "executeSQL = sqlite3.connect(':memory:')\n",
    "executeSQL.execute(create_table)\n",
    "executeSQL.commit()"
   ]
  },
  {
   "cell_type": "code",
   "execution_count": 51,
   "id": "4a61777b",
   "metadata": {},
   "outputs": [],
   "source": [
    "#prepare a SQL query\n",
    "SQL_query = executeSQL.execute('select * from student_score')"
   ]
  },
  {
   "cell_type": "code",
   "execution_count": 52,
   "id": "b099fdfe",
   "metadata": {},
   "outputs": [],
   "source": [
    "#fetch result from the SQLlite database\n",
    "resulset = SQL_query.fetchall()"
   ]
  },
  {
   "cell_type": "code",
   "execution_count": 53,
   "id": "79a334d1",
   "metadata": {},
   "outputs": [
    {
     "data": {
      "text/plain": [
       "[]"
      ]
     },
     "execution_count": 53,
     "metadata": {},
     "output_type": "execute_result"
    }
   ],
   "source": [
    "#view result (empty data)\n",
    "resulset"
   ]
  },
  {
   "cell_type": "code",
   "execution_count": 55,
   "id": "5e4b9013",
   "metadata": {},
   "outputs": [],
   "source": [
    "#prepare records to be inserted into SQL table through SQL statement\n",
    "insertSQL = [(10, 'Jack', 85, 89),\n",
    "            (29, 'Tom', 73,89),\n",
    "             (65, 'Ram', 65.5, 77),\n",
    "            (5, 'Steve', 55, 91)\n",
    "            ]"
   ]
  },
  {
   "cell_type": "code",
   "execution_count": 56,
   "id": "c38619ff",
   "metadata": {},
   "outputs": [],
   "source": [
    "#insert records into SQL table through SQL statement\n",
    "insert_statement = \"Insert into student_score values (?,?,?,?)\"\n",
    "executeSQL.executemany(insert_statement, insertSQL)\n",
    "executeSQL.commit()"
   ]
  },
  {
   "cell_type": "code",
   "execution_count": 58,
   "id": "0b75afe9",
   "metadata": {},
   "outputs": [],
   "source": [
    "#prepare SQL query\n",
    "SQL_query = executeSQL.execute(\"select * from student_score\")"
   ]
  },
  {
   "cell_type": "code",
   "execution_count": 59,
   "id": "8170d9b5",
   "metadata": {},
   "outputs": [],
   "source": [
    "#fetch the resultset for the query\n",
    "resulset = SQL_query.fetchall()"
   ]
  },
  {
   "cell_type": "raw",
   "id": "30f02055",
   "metadata": {},
   "source": []
  }
 ],
 "metadata": {
  "kernelspec": {
   "display_name": "Python 3 (ipykernel)",
   "language": "python",
   "name": "python3"
  },
  "language_info": {
   "codemirror_mode": {
    "name": "ipython",
    "version": 3
   },
   "file_extension": ".py",
   "mimetype": "text/x-python",
   "name": "python",
   "nbconvert_exporter": "python",
   "pygments_lexer": "ipython3",
   "version": "3.9.7"
  }
 },
 "nbformat": 4,
 "nbformat_minor": 5
}
