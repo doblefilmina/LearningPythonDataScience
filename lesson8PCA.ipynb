{
 "cells": [
  {
   "cell_type": "code",
   "execution_count": 1,
   "id": "9263a217",
   "metadata": {},
   "outputs": [],
   "source": [
    "#import required library PCA\n",
    "from sklearn.decomposition import PCA\n",
    "#import the dataset\n",
    "from sklearn.datasets import make_blobs"
   ]
  },
  {
   "cell_type": "code",
   "execution_count": 3,
   "id": "7729c2cb",
   "metadata": {},
   "outputs": [],
   "source": [
    "#define sample and random state\n",
    "n_sample = 20\n",
    "random_state = 20"
   ]
  },
  {
   "cell_type": "code",
   "execution_count": 4,
   "id": "b6cdc554",
   "metadata": {},
   "outputs": [],
   "source": [
    "#generate the dataset with 10 features (dimension)\n",
    "X,y = make_blobs(n_samples=n_sample, n_features=10, random_state=None)"
   ]
  },
  {
   "cell_type": "code",
   "execution_count": 5,
   "id": "16b5175c",
   "metadata": {},
   "outputs": [
    {
     "data": {
      "text/plain": [
       "(20, 10)"
      ]
     },
     "execution_count": 5,
     "metadata": {},
     "output_type": "execute_result"
    }
   ],
   "source": [
    "#view the shape of the dataset\n",
    "X.shape"
   ]
  },
  {
   "cell_type": "code",
   "execution_count": 8,
   "id": "27ad48e9",
   "metadata": {},
   "outputs": [],
   "source": [
    "#define the PCA estimator with number of reduced components\n",
    "pca = PCA(n_components=3)"
   ]
  },
  {
   "cell_type": "code",
   "execution_count": 10,
   "id": "72415a0c",
   "metadata": {},
   "outputs": [
    {
     "name": "stdout",
     "output_type": "stream",
     "text": [
      "PCA(n_components=3)\n",
      "[0.70060385 0.2652137  0.01030225]\n"
     ]
    }
   ],
   "source": [
    "#fit the data into the PCA estimator\n",
    "pca.fit(X)\n",
    "print(pca.explained_variance_ratio_)"
   ]
  },
  {
   "cell_type": "code",
   "execution_count": 11,
   "id": "167f24b4",
   "metadata": {},
   "outputs": [
    {
     "name": "stdout",
     "output_type": "stream",
     "text": [
      "[-0.28699033  0.06149972 -0.10045719  0.26550475  0.38327022 -0.45376192\n",
      " -0.48543872 -0.23950744  0.40214921 -0.16042263]\n"
     ]
    }
   ],
   "source": [
    "#print the first PCA component\n",
    "first_pca = pca.components_[0]\n",
    "print(first_pca)"
   ]
  },
  {
   "cell_type": "code",
   "execution_count": 13,
   "id": "34b90e04",
   "metadata": {},
   "outputs": [
    {
     "name": "stdout",
     "output_type": "stream",
     "text": [
      "[[ -9.60010167  -9.58818097   1.66726843]\n",
      " [ -8.48158404   9.60009617  -1.04506674]\n",
      " [ -7.80484116  10.35574024   0.36454563]\n",
      " [ 16.98296021   0.17380513  -0.25013099]\n",
      " [ -9.42600148   8.78699488   0.67567965]\n",
      " [ 18.27546295  -1.22926284   1.63758977]\n",
      " [ 16.8923601   -0.49937189  -1.66409402]\n",
      " [-10.29152476 -10.62137348  -1.45294381]\n",
      " [-10.62540155  -9.7276932   -2.15215836]\n",
      " [ 16.71377439  -1.82108109   1.76480871]\n",
      " [ -7.8608362    8.62112053   0.73405749]\n",
      " [ -7.07436566  10.72978879  -0.69293118]\n",
      " [-10.6246269  -10.37284212  -1.89116632]\n",
      " [ 16.27315803  -2.1075729    1.86006798]\n",
      " [ 19.04228593  -0.18748527  -1.41854718]\n",
      " [-10.01063389  -9.40163983  -0.42803729]\n",
      " [ -9.40855332   8.17242277  -0.5589052 ]\n",
      " [-11.82211764 -10.37853812   3.66960954]\n",
      " [ -8.05696821   9.22838237   0.93389574]\n",
      " [ 16.90755487   0.26669082  -1.75354185]]\n"
     ]
    }
   ],
   "source": [
    "#transform the fitted data using transform method\n",
    "pca_reduced = pca.transform(X)\n",
    "print(pca_reduced)"
   ]
  },
  {
   "cell_type": "code",
   "execution_count": 14,
   "id": "54190e01",
   "metadata": {},
   "outputs": [
    {
     "data": {
      "text/plain": [
       "(20, 3)"
      ]
     },
     "execution_count": 14,
     "metadata": {},
     "output_type": "execute_result"
    }
   ],
   "source": [
    "#view the reduced shape (lower dimension)\n",
    "pca_reduced.shape"
   ]
  }
 ],
 "metadata": {
  "kernelspec": {
   "display_name": "Python 3 (ipykernel)",
   "language": "python",
   "name": "python3"
  },
  "language_info": {
   "codemirror_mode": {
    "name": "ipython",
    "version": 3
   },
   "file_extension": ".py",
   "mimetype": "text/x-python",
   "name": "python",
   "nbconvert_exporter": "python",
   "pygments_lexer": "ipython3",
   "version": "3.9.7"
  }
 },
 "nbformat": 4,
 "nbformat_minor": 5
}
