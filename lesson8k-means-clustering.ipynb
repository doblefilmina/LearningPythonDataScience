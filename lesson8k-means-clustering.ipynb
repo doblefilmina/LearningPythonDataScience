{
 "cells": [
  {
   "cell_type": "code",
   "execution_count": 1,
   "id": "651c88f4",
   "metadata": {},
   "outputs": [],
   "source": [
    "#import require libraries\n",
    "import numpy as np\n",
    "\n",
    "#import kMeans class from skLearn.cluster\n",
    "from sklearn.cluster import KMeans\n",
    "\n",
    "#import make_blobs dataset from lkLearn.cluster\n",
    "from sklearn.datasets import make_blobs"
   ]
  },
  {
   "cell_type": "code",
   "execution_count": 27,
   "id": "cbeaab7f",
   "metadata": {},
   "outputs": [],
   "source": [
    "##make_blobs es una función que devuelve un dataset random de \"n_samples\" observaciones en forma de tupla.\n",
    "#En la posición 0, están las features, de la dimensión que uno predefina como n_features\n",
    "#En la posición 1, están las \"clases\" a la que pertenece cada punto, es decir, la respuesta.\n",
    "#Por lo que entendí, en aprendizaje NO supervisado, no miramos la \"Y\" de este data set."
   ]
  },
  {
   "cell_type": "code",
   "execution_count": 30,
   "id": "a7e78bc6",
   "metadata": {},
   "outputs": [
    {
     "data": {
      "text/plain": [
       "array([1, 2, 0, 1, 0, 1, 0, 0, 1, 0, 1, 1, 1, 1, 1, 1, 2, 2, 2, 2, 1, 1,\n",
       "       0, 0, 0, 0, 1, 0, 2, 1, 0, 1, 0, 1, 2, 0, 1, 1, 2, 1, 0, 1, 1, 2,\n",
       "       1, 1, 2, 0, 0, 0, 0, 0, 2, 2, 1, 1, 1, 1, 2, 1, 0, 1, 0, 1, 2, 2,\n",
       "       1, 1, 1, 0, 2, 2, 0, 1, 2, 1, 0, 0, 0, 1, 1, 2, 2, 1, 2, 2, 1, 2,\n",
       "       2, 0, 2, 0, 2, 0, 0, 1, 2, 1, 2, 0, 0, 2, 0, 0, 0, 1, 0, 1, 0, 1,\n",
       "       1, 2, 2, 2, 0, 1, 2, 2, 2, 1, 2, 0, 2, 2, 0, 2, 1, 0, 1, 2, 0, 1,\n",
       "       1, 0, 0, 2, 1, 2, 2, 0, 0, 2, 2, 0, 2, 1, 1, 2, 0, 0, 0, 1, 2, 0,\n",
       "       0, 2, 2, 2, 1, 0, 1, 1, 1, 2, 2, 2, 2, 1, 0, 2, 1, 0, 1, 2, 2, 0,\n",
       "       0, 1, 0, 0, 0, 2, 1, 2, 0, 1, 1, 2, 2, 2, 1, 2, 0, 2, 1, 1, 0, 0,\n",
       "       1, 2, 1, 1, 2, 1, 0, 0, 1, 0, 1, 0, 2, 2, 1, 0, 0, 2, 2, 0, 2, 0,\n",
       "       1, 1, 2, 1, 1, 1, 2, 1, 0, 0, 0, 0, 2, 0, 2, 1, 0, 1, 2, 1, 2, 2,\n",
       "       2, 2, 0, 2, 0, 1, 2, 0, 0, 0, 2, 2, 1, 1, 2, 0, 1, 2, 0, 2, 1, 0,\n",
       "       0, 0, 1, 0, 2, 0, 2, 0, 2, 1, 0, 0, 0, 0, 2, 2, 0, 0, 1, 0, 1, 2,\n",
       "       2, 1, 2, 0, 1, 1, 2, 1, 1, 1, 2, 0, 2, 2])"
      ]
     },
     "execution_count": 30,
     "metadata": {},
     "output_type": "execute_result"
    }
   ],
   "source": [
    "#define number of samples\n",
    "n_samples = 300\n",
    "#define random state value to initialize the center\n",
    "random_state = 20\n",
    "#define number of feature as 5\n",
    "X,y = make_blobs(n_samples = n_samples, n_features=5, random_state=None)\n",
    "#define number of cluster to be formed as 3 and in random state and fit features into the model\n",
    "predict_y = KMeans(n_clusters=3, random_state=random_state).fit_predict(X)\n",
    "#print the estimator prediction\n",
    "predict_y"
   ]
  },
  {
   "cell_type": "code",
   "execution_count": 28,
   "id": "ff68ea87",
   "metadata": {},
   "outputs": [
    {
     "data": {
      "text/plain": [
       "array([0, 2, 2, 0, 1, 2, 1, 0, 1, 2, 0, 1, 2, 2, 1, 1, 2, 2, 2, 0, 0, 0,\n",
       "       1, 1, 0, 1, 2, 0, 2, 0, 1, 0, 1, 1, 2, 2, 0, 2, 1, 1, 2, 0, 2, 2,\n",
       "       0, 2, 1, 0, 2, 2, 1, 2, 0, 2, 1, 0, 2, 0, 1, 2, 1, 2, 0, 2, 2, 2,\n",
       "       0, 1, 0, 0, 1, 0, 0, 1, 1, 0, 0, 0, 2, 0, 2, 2, 2, 0, 1, 0, 1, 1,\n",
       "       0, 0, 0, 2, 1, 0, 0, 0, 1, 1, 2, 1, 1, 0, 1, 1, 1, 0, 1, 1, 1, 1,\n",
       "       0, 1, 1, 0, 2, 1, 2, 0, 0, 2, 0, 2, 1, 0, 2, 0, 1, 0, 2, 2, 1, 1,\n",
       "       0, 0, 0, 0, 0, 2, 2, 1, 1, 0, 1, 2, 0, 2, 0, 1, 2, 0, 1, 1, 2, 2,\n",
       "       2, 1, 2, 2, 2, 0, 0, 2, 0, 0, 1, 2, 2, 0, 2, 2, 2, 0, 0, 1, 1, 0,\n",
       "       1, 0, 1, 0, 1, 2, 1, 0, 1, 2, 2, 0, 0, 0, 2, 0, 2, 2, 0, 2, 1, 0,\n",
       "       2, 0, 0, 2, 0, 0, 2, 1, 1, 1, 0, 2, 1, 1, 2, 0, 1, 0, 1, 0, 0, 1,\n",
       "       2, 0, 1, 1, 1, 1, 0, 1, 2, 0, 1, 0, 0, 2, 0, 2, 2, 1, 0, 2, 2, 0,\n",
       "       1, 1, 2, 2, 0, 0, 0, 1, 2, 0, 1, 1, 2, 0, 1, 1, 2, 0, 1, 1, 2, 1,\n",
       "       1, 2, 2, 1, 2, 2, 1, 2, 2, 1, 0, 0, 2, 1, 2, 1, 0, 2, 1, 1, 0, 2,\n",
       "       0, 1, 1, 2, 2, 2, 2, 1, 1, 2, 2, 1, 1, 2])"
      ]
     },
     "execution_count": 28,
     "metadata": {},
     "output_type": "execute_result"
    }
   ],
   "source": [
    "y"
   ]
  }
 ],
 "metadata": {
  "kernelspec": {
   "display_name": "Python 3 (ipykernel)",
   "language": "python",
   "name": "python3"
  },
  "language_info": {
   "codemirror_mode": {
    "name": "ipython",
    "version": 3
   },
   "file_extension": ".py",
   "mimetype": "text/x-python",
   "name": "python",
   "nbconvert_exporter": "python",
   "pygments_lexer": "ipython3",
   "version": "3.9.7"
  }
 },
 "nbformat": 4,
 "nbformat_minor": 5
}
