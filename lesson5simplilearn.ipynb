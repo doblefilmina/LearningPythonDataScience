{
 "cells": [
  {
   "cell_type": "code",
   "execution_count": 3,
   "id": "98bfa389",
   "metadata": {},
   "outputs": [],
   "source": [
    "import numpy as np"
   ]
  },
  {
   "cell_type": "code",
   "execution_count": 4,
   "id": "54e401b2",
   "metadata": {},
   "outputs": [],
   "source": [
    "distance = [10, 15, 17, 26]\n",
    "time = [.30, .47, .55, 1.2]"
   ]
  },
  {
   "cell_type": "code",
   "execution_count": 5,
   "id": "bc10d0cd",
   "metadata": {},
   "outputs": [
    {
     "ename": "TypeError",
     "evalue": "unsupported operand type(s) for /: 'list' and 'list'",
     "output_type": "error",
     "traceback": [
      "\u001b[1;31m---------------------------------------------------------------------------\u001b[0m",
      "\u001b[1;31mTypeError\u001b[0m                                 Traceback (most recent call last)",
      "\u001b[1;32m~\\AppData\\Local\\Temp/ipykernel_6052/3764679714.py\u001b[0m in \u001b[0;36m<module>\u001b[1;34m\u001b[0m\n\u001b[1;32m----> 1\u001b[1;33m \u001b[0mspeed\u001b[0m\u001b[1;33m=\u001b[0m\u001b[0mdistance\u001b[0m\u001b[1;33m/\u001b[0m\u001b[0mtime\u001b[0m\u001b[1;33m\u001b[0m\u001b[1;33m\u001b[0m\u001b[0m\n\u001b[0m",
      "\u001b[1;31mTypeError\u001b[0m: unsupported operand type(s) for /: 'list' and 'list'"
     ]
    }
   ],
   "source": [
    "speed=distance/time"
   ]
  },
  {
   "cell_type": "code",
   "execution_count": 6,
   "id": "9d4b90cf",
   "metadata": {},
   "outputs": [],
   "source": [
    "np_distance= np.array(distance)\n",
    "np_time= np.array(time)\n",
    "speed = np_distance / np_time"
   ]
  },
  {
   "cell_type": "code",
   "execution_count": 7,
   "id": "9fcab455",
   "metadata": {},
   "outputs": [
    {
     "data": {
      "text/plain": [
       "array([33.33333333, 31.91489362, 30.90909091, 21.66666667])"
      ]
     },
     "execution_count": 7,
     "metadata": {},
     "output_type": "execute_result"
    }
   ],
   "source": [
    "speed"
   ]
  },
  {
   "cell_type": "code",
   "execution_count": 8,
   "id": "cf4e2c68",
   "metadata": {},
   "outputs": [],
   "source": [
    "first_numpy_array = np.array([1,2,3,4])"
   ]
  },
  {
   "cell_type": "code",
   "execution_count": 9,
   "id": "074ec435",
   "metadata": {},
   "outputs": [
    {
     "name": "stdout",
     "output_type": "stream",
     "text": [
      "[1 2 3 4]\n"
     ]
    }
   ],
   "source": [
    "print(first_numpy_array)"
   ]
  },
  {
   "cell_type": "code",
   "execution_count": 10,
   "id": "59b6a561",
   "metadata": {},
   "outputs": [
    {
     "data": {
      "text/plain": [
       "array([[0., 0., 0.],\n",
       "       [0., 0., 0.],\n",
       "       [0., 0., 0.]])"
      ]
     },
     "execution_count": 10,
     "metadata": {},
     "output_type": "execute_result"
    }
   ],
   "source": [
    "#array with zeros\n",
    "array_with_zeros = np.zeros((3,3))\n",
    "array_with_zeros"
   ]
  },
  {
   "cell_type": "code",
   "execution_count": 11,
   "id": "d5f61c7f",
   "metadata": {},
   "outputs": [
    {
     "data": {
      "text/plain": [
       "array([[1., 1., 1.],\n",
       "       [1., 1., 1.],\n",
       "       [1., 1., 1.]])"
      ]
     },
     "execution_count": 11,
     "metadata": {},
     "output_type": "execute_result"
    }
   ],
   "source": [
    "array_with_ones = np.ones((3,3))\n",
    "array_with_ones"
   ]
  },
  {
   "cell_type": "code",
   "execution_count": 12,
   "id": "e49c35e5",
   "metadata": {},
   "outputs": [
    {
     "data": {
      "text/plain": [
       "array([[0., 0., 0.],\n",
       "       [0., 0., 0.]])"
      ]
     },
     "execution_count": 12,
     "metadata": {},
     "output_type": "execute_result"
    }
   ],
   "source": [
    "array_with_empty = np.empty((2,3))\n",
    "array_with_empty"
   ]
  },
  {
   "cell_type": "code",
   "execution_count": null,
   "id": "b231555f",
   "metadata": {},
   "outputs": [],
   "source": []
  },
  {
   "cell_type": "code",
   "execution_count": 13,
   "id": "40f9c31d",
   "metadata": {
    "scrolled": true
   },
   "outputs": [
    {
     "data": {
      "text/plain": [
       "array([ 0,  1,  2,  3,  4,  5,  6,  7,  8,  9, 10, 11])"
      ]
     },
     "execution_count": 13,
     "metadata": {},
     "output_type": "execute_result"
    }
   ],
   "source": [
    "np_arange = np.arange(12)\n",
    "np_arange"
   ]
  },
  {
   "cell_type": "code",
   "execution_count": 14,
   "id": "d7fcf428",
   "metadata": {},
   "outputs": [
    {
     "data": {
      "text/plain": [
       "array([[ 0,  1,  2,  3],\n",
       "       [ 4,  5,  6,  7],\n",
       "       [ 8,  9, 10, 11]])"
      ]
     },
     "execution_count": 14,
     "metadata": {},
     "output_type": "execute_result"
    }
   ],
   "source": [
    "np_arange.reshape(3,4)"
   ]
  },
  {
   "cell_type": "code",
   "execution_count": 15,
   "id": "202d88ea",
   "metadata": {},
   "outputs": [
    {
     "data": {
      "text/plain": [
       "array([1.  , 2.25, 3.5 , 4.75, 6.  ])"
      ]
     },
     "execution_count": 15,
     "metadata": {},
     "output_type": "execute_result"
    }
   ],
   "source": [
    "#linespace for linearly (equal) spaced data elements\n",
    "np_linspace = np.linspace(1,6,5)\n",
    "np_linspace"
   ]
  },
  {
   "cell_type": "code",
   "execution_count": 17,
   "id": "5c7b8c16",
   "metadata": {},
   "outputs": [
    {
     "data": {
      "text/plain": [
       "array([ 0,  1,  2,  3,  4,  5,  6,  7,  8,  9, 10, 11, 12, 13, 14])"
      ]
     },
     "execution_count": 17,
     "metadata": {},
     "output_type": "execute_result"
    }
   ],
   "source": [
    "#one dimensionale array\n",
    "oneD_array = np.arange(15)\n",
    "oneD_array"
   ]
  },
  {
   "cell_type": "code",
   "execution_count": 18,
   "id": "3d693f3b",
   "metadata": {},
   "outputs": [
    {
     "data": {
      "text/plain": [
       "array([[ 0,  1,  2,  3,  4],\n",
       "       [ 5,  6,  7,  8,  9],\n",
       "       [10, 11, 12, 13, 14]])"
      ]
     },
     "execution_count": 18,
     "metadata": {},
     "output_type": "execute_result"
    }
   ],
   "source": [
    "TwoD_array = oneD_array.reshape(3,5)\n",
    "TwoD_array"
   ]
  },
  {
   "cell_type": "code",
   "execution_count": 19,
   "id": "6a506134",
   "metadata": {},
   "outputs": [
    {
     "data": {
      "text/plain": [
       "array([[[ 0,  1,  2],\n",
       "        [ 3,  4,  5],\n",
       "        [ 6,  7,  8]],\n",
       "\n",
       "       [[ 9, 10, 11],\n",
       "        [12, 13, 14],\n",
       "        [15, 16, 17]],\n",
       "\n",
       "       [[18, 19, 20],\n",
       "        [21, 22, 23],\n",
       "        [24, 25, 26]]])"
      ]
     },
     "execution_count": 19,
     "metadata": {},
     "output_type": "execute_result"
    }
   ],
   "source": [
    "ThreeD_array = np.arange(27).reshape(3,3,3)\n",
    "ThreeD_array"
   ]
  },
  {
   "cell_type": "code",
   "execution_count": 20,
   "id": "477fecfa",
   "metadata": {
    "scrolled": true
   },
   "outputs": [
    {
     "name": "stdout",
     "output_type": "stream",
     "text": [
      "[[[ 0  1  2]\n",
      "  [ 3  4  5]\n",
      "  [ 6  7  8]]\n",
      "\n",
      " [[ 9 10 11]\n",
      "  [12 13 14]\n",
      "  [15 16 17]]\n",
      "\n",
      " [[18 19 20]\n",
      "  [21 22 23]\n",
      "  [24 25 26]]]\n"
     ]
    }
   ],
   "source": [
    "print(ThreeD_array)"
   ]
  },
  {
   "cell_type": "code",
   "execution_count": 21,
   "id": "81155871",
   "metadata": {},
   "outputs": [],
   "source": [
    "first_trial_cyclist = [10, 15, 17, 26]\n",
    "second_trial_cyclist = [12, 11, 21, 24]\n",
    "np_first_trial_cyclist = np.array(first_trial_cyclist)\n",
    "np_second_trial_cyclist=np.array(second_trial_cyclist)"
   ]
  },
  {
   "cell_type": "code",
   "execution_count": 22,
   "id": "33bc46f4",
   "metadata": {},
   "outputs": [
    {
     "data": {
      "text/plain": [
       "array([22, 26, 38, 50])"
      ]
     },
     "execution_count": 22,
     "metadata": {},
     "output_type": "execute_result"
    }
   ],
   "source": [
    "np_first_trial_cyclist + np_second_trial_cyclist"
   ]
  },
  {
   "cell_type": "code",
   "execution_count": 24,
   "id": "8cb6c2ad",
   "metadata": {},
   "outputs": [
    {
     "data": {
      "text/plain": [
       "array([105, 135, 195])"
      ]
     },
     "execution_count": 24,
     "metadata": {},
     "output_type": "execute_result"
    }
   ],
   "source": [
    "np_daily_wage = np.array([7,9,13])*15\n",
    "np_daily_wage"
   ]
  },
  {
   "cell_type": "code",
   "execution_count": 29,
   "id": "146f8ef2",
   "metadata": {},
   "outputs": [
    {
     "name": "stdout",
     "output_type": "stream",
     "text": [
      "[[10 15 17 26]\n",
      " [12 11 21 24]]\n"
     ]
    }
   ],
   "source": [
    "cyclist_trials=np.array([np_first_trial_cyclist, np_second_trial_cyclist])\n",
    "print(cyclist_trials)"
   ]
  },
  {
   "cell_type": "code",
   "execution_count": 28,
   "id": "b5d69f4a",
   "metadata": {},
   "outputs": [
    {
     "name": "stdout",
     "output_type": "stream",
     "text": [
      "[[10 15 17 26]\n",
      " [12 11 21 24]]\n"
     ]
    }
   ],
   "source": [
    "cyclist_trials = np.array([[10, 15, 17, 26], [12, 11, 21, 24]])\n",
    "print(cyclist_trials)"
   ]
  },
  {
   "cell_type": "code",
   "execution_count": 36,
   "id": "1fa3aeb3",
   "metadata": {},
   "outputs": [
    {
     "name": "stdout",
     "output_type": "stream",
     "text": [
      "[10 15 17 26]\n",
      "[12 11 21 24]\n",
      "21\n",
      "[17 21]\n"
     ]
    }
   ],
   "source": [
    "print(cyclist_trials[0])\n",
    "print(cyclist_trials[1])\n",
    "print(cyclist_trials[1][2])\n",
    "print(cyclist_trials[:, 2]) #columna"
   ]
  },
  {
   "cell_type": "code",
   "execution_count": 37,
   "id": "0355268e",
   "metadata": {},
   "outputs": [
    {
     "data": {
      "text/plain": [
       "(2, 4)"
      ]
     },
     "execution_count": 37,
     "metadata": {},
     "output_type": "execute_result"
    }
   ],
   "source": [
    "cyclist_trials.shape"
   ]
  },
  {
   "cell_type": "code",
   "execution_count": 38,
   "id": "45a4c9b2",
   "metadata": {},
   "outputs": [
    {
     "name": "stdout",
     "output_type": "stream",
     "text": [
      "[[15 17]\n",
      " [11 21]]\n"
     ]
    }
   ],
   "source": [
    "print(cyclist_trials[: , 1:3])"
   ]
  },
  {
   "cell_type": "code",
   "execution_count": 69,
   "id": "549fa326",
   "metadata": {},
   "outputs": [],
   "source": [
    "NYC_Borough = np.array(['Manhattan', 'Bronx', 'Brooklyn'])"
   ]
  },
  {
   "cell_type": "code",
   "execution_count": 70,
   "id": "69e16ff2",
   "metadata": {},
   "outputs": [
    {
     "data": {
      "text/plain": [
       "array(['Manhattan', 'Bronx', 'Brooklyn'], dtype='<U9')"
      ]
     },
     "execution_count": 70,
     "metadata": {},
     "output_type": "execute_result"
    }
   ],
   "source": [
    "NYC_Borough"
   ]
  },
  {
   "cell_type": "code",
   "execution_count": 71,
   "id": "211c1bcb",
   "metadata": {},
   "outputs": [],
   "source": [
    "Boroughs_in_NYC = NYC_Borough"
   ]
  },
  {
   "cell_type": "code",
   "execution_count": 72,
   "id": "b186833a",
   "metadata": {},
   "outputs": [
    {
     "data": {
      "text/plain": [
       "array(['Manhattan', 'Bronx', 'Central P'], dtype='<U9')"
      ]
     },
     "execution_count": 72,
     "metadata": {},
     "output_type": "execute_result"
    }
   ],
   "source": [
    "NYC_Borough[2] = 'Central Park'\n",
    "NYC_Borough"
   ]
  },
  {
   "cell_type": "code",
   "execution_count": 73,
   "id": "d69f81b0",
   "metadata": {},
   "outputs": [
    {
     "data": {
      "text/plain": [
       "array(['Manhattan', 'Bronx', 'Central P'], dtype='<U9')"
      ]
     },
     "execution_count": 73,
     "metadata": {},
     "output_type": "execute_result"
    }
   ],
   "source": [
    "Boroughs_in_NYC"
   ]
  },
  {
   "cell_type": "code",
   "execution_count": 74,
   "id": "e5c63838",
   "metadata": {
    "scrolled": true
   },
   "outputs": [
    {
     "data": {
      "text/plain": [
       "True"
      ]
     },
     "execution_count": 74,
     "metadata": {},
     "output_type": "execute_result"
    }
   ],
   "source": [
    "NYC_Borough is Boroughs_in_NYC"
   ]
  },
  {
   "cell_type": "code",
   "execution_count": 77,
   "id": "0bc33c86",
   "metadata": {},
   "outputs": [
    {
     "name": "stdout",
     "output_type": "stream",
     "text": [
      "['Manhattan' 'Bronx' 'Anthony']\n",
      "['Manhattan' 'Bronx' 'Anthony']\n"
     ]
    }
   ],
   "source": [
    "Boroughs_in_NYC[2] = 'Anthony'\n",
    "print(Boroughs_in_NYC)\n",
    "print(NYC_Borough)"
   ]
  },
  {
   "cell_type": "code",
   "execution_count": 79,
   "id": "96c8ec16",
   "metadata": {},
   "outputs": [
    {
     "name": "stdout",
     "output_type": "stream",
     "text": [
      "['Manhattan' 'Bronx' 'Anthony']\n"
     ]
    }
   ],
   "source": [
    "View_of_Borough = Boroughs_in_NYC.view()\n",
    "print(View_of_Borough)"
   ]
  },
  {
   "cell_type": "code",
   "execution_count": 81,
   "id": "0668ac40",
   "metadata": {},
   "outputs": [
    {
     "name": "stdout",
     "output_type": "stream",
     "text": [
      "['Manhattan' 'Bronx' 'Palermo']\n",
      "['Manhattan' 'Bronx' 'Palermo']\n",
      "['Manhattan' 'Bronx' 'Palermo']\n"
     ]
    }
   ],
   "source": [
    "View_of_Borough[2] = 'Palermo'\n",
    "print(Boroughs_in_NYC)\n",
    "print(NYC_Borough)\n",
    "print(View_of_Borough)"
   ]
  },
  {
   "cell_type": "code",
   "execution_count": 82,
   "id": "2ba1392c",
   "metadata": {},
   "outputs": [
    {
     "data": {
      "text/plain": [
       "False"
      ]
     },
     "execution_count": 82,
     "metadata": {},
     "output_type": "execute_result"
    }
   ],
   "source": [
    "View_of_Borough is Boroughs_in_NYC"
   ]
  },
  {
   "cell_type": "code",
   "execution_count": 83,
   "id": "2a620624",
   "metadata": {},
   "outputs": [
    {
     "data": {
      "text/plain": [
       "array(['Manhattan', 'Bronx', 'Palermo'], dtype='<U9')"
      ]
     },
     "execution_count": 83,
     "metadata": {},
     "output_type": "execute_result"
    }
   ],
   "source": [
    "Copy_of_Borough = Boroughs_in_NYC.copy()\n",
    "Copy_of_Borough"
   ]
  },
  {
   "cell_type": "code",
   "execution_count": 84,
   "id": "fa7edd2b",
   "metadata": {
    "scrolled": true
   },
   "outputs": [
    {
     "name": "stdout",
     "output_type": "stream",
     "text": [
      "['Manhattan' 'Bronx' 'Palermo']\n",
      "['Manhattan' 'Bronx' 'Palermo']\n",
      "['Manhattan' 'Bronx' 'Palermo']\n",
      "['Manhattan' 'Bronx' 'Don Bosco']\n"
     ]
    }
   ],
   "source": [
    "Copy_of_Borough[2] = 'Don Bosco'\n",
    "print(Boroughs_in_NYC)\n",
    "print(NYC_Borough)\n",
    "print(View_of_Borough)\n",
    "print(Copy_of_Borough)"
   ]
  },
  {
   "cell_type": "code",
   "execution_count": 85,
   "id": "8667718e",
   "metadata": {},
   "outputs": [
    {
     "data": {
      "text/plain": [
       "array([1.41421356, 2.        , 3.        , 4.        ])"
      ]
     },
     "execution_count": 85,
     "metadata": {},
     "output_type": "execute_result"
    }
   ],
   "source": [
    "np_sqrt = np.sqrt([2,4,9,16])\n",
    "np_sqrt"
   ]
  },
  {
   "cell_type": "code",
   "execution_count": 86,
   "id": "6528e394",
   "metadata": {},
   "outputs": [],
   "source": [
    "from numpy import pi"
   ]
  },
  {
   "cell_type": "code",
   "execution_count": 87,
   "id": "95f5632a",
   "metadata": {},
   "outputs": [
    {
     "data": {
      "text/plain": [
       "1.0"
      ]
     },
     "execution_count": 87,
     "metadata": {},
     "output_type": "execute_result"
    }
   ],
   "source": [
    "np.cos(0)"
   ]
  },
  {
   "cell_type": "code",
   "execution_count": 88,
   "id": "ab061735",
   "metadata": {},
   "outputs": [
    {
     "data": {
      "text/plain": [
       "1.0"
      ]
     },
     "execution_count": 88,
     "metadata": {},
     "output_type": "execute_result"
    }
   ],
   "source": [
    "np.sin(pi/2)"
   ]
  },
  {
   "cell_type": "code",
   "execution_count": 89,
   "id": "d759325d",
   "metadata": {},
   "outputs": [
    {
     "data": {
      "text/plain": [
       "array([ 1.,  1.,  2.,  3.,  1., -1., -2.])"
      ]
     },
     "execution_count": 89,
     "metadata": {},
     "output_type": "execute_result"
    }
   ],
   "source": [
    "np.floor([1.5, 1.6, 2.7, 3.3, 1.1, -0.3, -1.4])"
   ]
  },
  {
   "cell_type": "code",
   "execution_count": 90,
   "id": "db3bedf9",
   "metadata": {},
   "outputs": [
    {
     "data": {
      "text/plain": [
       "array([  1.        ,   2.71828183, 148.4131591 ])"
      ]
     },
     "execution_count": 90,
     "metadata": {},
     "output_type": "execute_result"
    }
   ],
   "source": [
    "np.exp([0,1,5])"
   ]
  },
  {
   "cell_type": "code",
   "execution_count": 92,
   "id": "826b8f83",
   "metadata": {},
   "outputs": [
    {
     "data": {
      "text/plain": [
       "array([[10, 15, 17, 26, 13, 19],\n",
       "       [12, 11, 21, 24, 14, 23]])"
      ]
     },
     "execution_count": 92,
     "metadata": {},
     "output_type": "execute_result"
    }
   ],
   "source": [
    "ct = np.array([[10,15,17,26,13,19], [12,11,21,24,14,23]])\n",
    "ct"
   ]
  },
  {
   "cell_type": "code",
   "execution_count": 93,
   "id": "2858a063",
   "metadata": {},
   "outputs": [
    {
     "data": {
      "text/plain": [
       "array([10, 15, 17, 26, 13, 19, 12, 11, 21, 24, 14, 23])"
      ]
     },
     "execution_count": 93,
     "metadata": {},
     "output_type": "execute_result"
    }
   ],
   "source": [
    "ct.ravel()"
   ]
  },
  {
   "cell_type": "code",
   "execution_count": 97,
   "id": "25c0412d",
   "metadata": {},
   "outputs": [
    {
     "data": {
      "text/plain": [
       "array([[10, 15, 17, 26, 13, 19],\n",
       "       [12, 11, 21, 24, 14, 23]])"
      ]
     },
     "execution_count": 97,
     "metadata": {},
     "output_type": "execute_result"
    }
   ],
   "source": [
    "ct.reshape(3,4)\n",
    "ct"
   ]
  },
  {
   "cell_type": "code",
   "execution_count": 96,
   "id": "90c026fc",
   "metadata": {},
   "outputs": [
    {
     "data": {
      "text/plain": [
       "array([[10, 15, 17, 26, 13, 19],\n",
       "       [12, 11, 21, 24, 14, 23]])"
      ]
     },
     "execution_count": 96,
     "metadata": {},
     "output_type": "execute_result"
    }
   ],
   "source": [
    "ct.resize(2,6)\n",
    "ct"
   ]
  },
  {
   "cell_type": "code",
   "execution_count": 99,
   "id": "f26c4a05",
   "metadata": {},
   "outputs": [
    {
     "name": "stdout",
     "output_type": "stream",
     "text": [
      "[[10 15 17]\n",
      " [12 11 21]]\n",
      "[[26 13 19]\n",
      " [24 14 23]]\n"
     ]
    }
   ],
   "source": [
    "ct1,ct2=np.hsplit(ct, 2)\n",
    "print(ct1)\n",
    "print(ct2)"
   ]
  },
  {
   "cell_type": "code",
   "execution_count": 101,
   "id": "0e652573",
   "metadata": {},
   "outputs": [
    {
     "data": {
      "text/plain": [
       "array([[10, 15, 17, 26, 13, 19],\n",
       "       [12, 11, 21, 24, 14, 23]])"
      ]
     },
     "execution_count": 101,
     "metadata": {},
     "output_type": "execute_result"
    }
   ],
   "source": [
    "np.hstack((ct1, ct2))"
   ]
  },
  {
   "cell_type": "code",
   "execution_count": 102,
   "id": "23754d1c",
   "metadata": {},
   "outputs": [
    {
     "name": "stdout",
     "output_type": "stream",
     "text": [
      "[[83 71 57]\n",
      " [54 68 81]]\n"
     ]
    }
   ],
   "source": [
    "##Trasponer\n",
    "student_test = np.array([[83,71,57], [54,68,81]])\n",
    "print(student_test)"
   ]
  },
  {
   "cell_type": "code",
   "execution_count": 103,
   "id": "5e32b490",
   "metadata": {},
   "outputs": [
    {
     "data": {
      "text/plain": [
       "array([[83, 54],\n",
       "       [71, 68],\n",
       "       [57, 81]])"
      ]
     },
     "execution_count": 103,
     "metadata": {},
     "output_type": "execute_result"
    }
   ],
   "source": [
    "student_test.transpose()"
   ]
  },
  {
   "cell_type": "code",
   "execution_count": 105,
   "id": "601013de",
   "metadata": {},
   "outputs": [
    {
     "data": {
      "text/plain": [
       "array([[-0.5,  0.4],\n",
       "       [ 0.3, -0.2]])"
      ]
     },
     "execution_count": 105,
     "metadata": {},
     "output_type": "execute_result"
    }
   ],
   "source": [
    "#inversa\n",
    "matriz = np.array([[10,20] , [15,25]])\n",
    "np.linalg.inv(matriz)"
   ]
  },
  {
   "cell_type": "code",
   "execution_count": 106,
   "id": "1fc80968",
   "metadata": {},
   "outputs": [
    {
     "data": {
      "text/plain": [
       "35"
      ]
     },
     "execution_count": 106,
     "metadata": {},
     "output_type": "execute_result"
    }
   ],
   "source": [
    "# suma de diagonal\n",
    "np.trace(matriz)"
   ]
  },
  {
   "cell_type": "code",
   "execution_count": 109,
   "id": "93f2de57",
   "metadata": {},
   "outputs": [
    {
     "data": {
      "text/plain": [
       "array([10, 20, 15, 25])"
      ]
     },
     "execution_count": 109,
     "metadata": {},
     "output_type": "execute_result"
    }
   ],
   "source": [
    "np.transpose(np.array([10, 20, 15, 25]))"
   ]
  }
 ],
 "metadata": {
  "kernelspec": {
   "display_name": "Python 3 (ipykernel)",
   "language": "python",
   "name": "python3"
  },
  "language_info": {
   "codemirror_mode": {
    "name": "ipython",
    "version": 3
   },
   "file_extension": ".py",
   "mimetype": "text/x-python",
   "name": "python",
   "nbconvert_exporter": "python",
   "pygments_lexer": "ipython3",
   "version": "3.9.7"
  }
 },
 "nbformat": 4,
 "nbformat_minor": 5
}
