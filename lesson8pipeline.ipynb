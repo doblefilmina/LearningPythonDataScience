{
 "cells": [
  {
   "cell_type": "code",
   "execution_count": null,
   "id": "101bdfa7",
   "metadata": {},
   "outputs": [],
   "source": [
    "#import pipeline class\n",
    "\n",
    "#import linear estimator\n",
    "\n",
    "#import PCA estimator for dimensionality reduction"
   ]
  },
  {
   "cell_type": "markdown",
   "id": "1bc7c948",
   "metadata": {},
   "source": [
    "### Import the required libraries and models (estimators)"
   ]
  },
  {
   "cell_type": "code",
   "execution_count": 1,
   "id": "1706eef9",
   "metadata": {},
   "outputs": [],
   "source": [
    "#import pipeline class\n",
    "from sklearn.pipeline import Pipeline\n",
    "#import linear estimator\n",
    "from sklearn.linear_model import LinearRegression\n",
    "#import PCA estimator for dimensionality reduction\n",
    "from sklearn.decomposition import PCA"
   ]
  },
  {
   "cell_type": "markdown",
   "id": "20ee62b4",
   "metadata": {},
   "source": [
    "### Chain the estimators togheter"
   ]
  },
  {
   "cell_type": "code",
   "execution_count": 2,
   "id": "b6eece8b",
   "metadata": {},
   "outputs": [],
   "source": [
    "estimator = [('dim_reduction',PCA()), ('linear_model',LinearRegression())]"
   ]
  },
  {
   "cell_type": "markdown",
   "id": "312f555a",
   "metadata": {},
   "source": [
    "### Put the chain of estimators in a pipieline object "
   ]
  },
  {
   "cell_type": "code",
   "execution_count": 5,
   "id": "e1fb916e",
   "metadata": {},
   "outputs": [],
   "source": [
    "pipeline_estimator = Pipeline(estimator)"
   ]
  },
  {
   "cell_type": "markdown",
   "id": "e3a25591",
   "metadata": {},
   "source": [
    "### Check the chain of estimators"
   ]
  },
  {
   "cell_type": "code",
   "execution_count": 6,
   "id": "4696c0db",
   "metadata": {},
   "outputs": [
    {
     "data": {
      "text/plain": [
       "Pipeline(steps=[('dim_reduction', PCA()), ('linear_model', LinearRegression())])"
      ]
     },
     "execution_count": 6,
     "metadata": {},
     "output_type": "execute_result"
    }
   ],
   "source": [
    "pipeline_estimator"
   ]
  },
  {
   "cell_type": "markdown",
   "id": "a4beb7df",
   "metadata": {},
   "source": [
    "### View the first step"
   ]
  },
  {
   "cell_type": "code",
   "execution_count": 8,
   "id": "e48e4974",
   "metadata": {},
   "outputs": [
    {
     "data": {
      "text/plain": [
       "('dim_reduction', PCA())"
      ]
     },
     "execution_count": 8,
     "metadata": {},
     "output_type": "execute_result"
    }
   ],
   "source": [
    "pipeline_estimator.steps[0]"
   ]
  },
  {
   "cell_type": "markdown",
   "id": "206366d6",
   "metadata": {},
   "source": [
    "### View second step"
   ]
  },
  {
   "cell_type": "code",
   "execution_count": 9,
   "id": "d3d1448e",
   "metadata": {},
   "outputs": [
    {
     "data": {
      "text/plain": [
       "('linear_model', LinearRegression())"
      ]
     },
     "execution_count": 9,
     "metadata": {},
     "output_type": "execute_result"
    }
   ],
   "source": [
    "pipeline_estimator.steps[1]"
   ]
  },
  {
   "cell_type": "markdown",
   "id": "10fcd53c",
   "metadata": {},
   "source": [
    "### View all steps in pipeline"
   ]
  },
  {
   "cell_type": "code",
   "execution_count": 10,
   "id": "2108f566",
   "metadata": {},
   "outputs": [
    {
     "data": {
      "text/plain": [
       "[('dim_reduction', PCA()), ('linear_model', LinearRegression())]"
      ]
     },
     "execution_count": 10,
     "metadata": {},
     "output_type": "execute_result"
    }
   ],
   "source": [
    "pipeline_estimator.steps"
   ]
  }
 ],
 "metadata": {
  "kernelspec": {
   "display_name": "Python 3 (ipykernel)",
   "language": "python",
   "name": "python3"
  },
  "language_info": {
   "codemirror_mode": {
    "name": "ipython",
    "version": 3
   },
   "file_extension": ".py",
   "mimetype": "text/x-python",
   "name": "python",
   "nbconvert_exporter": "python",
   "pygments_lexer": "ipython3",
   "version": "3.9.7"
  }
 },
 "nbformat": 4,
 "nbformat_minor": 5
}
