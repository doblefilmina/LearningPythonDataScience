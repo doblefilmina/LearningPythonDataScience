{
 "cells": [
  {
   "cell_type": "code",
   "execution_count": 1,
   "id": "2a3c8b7a",
   "metadata": {},
   "outputs": [],
   "source": [
    "import sys"
   ]
  },
  {
   "cell_type": "code",
   "execution_count": 2,
   "id": "b48f4eee",
   "metadata": {},
   "outputs": [
    {
     "name": "stdout",
     "output_type": "stream",
     "text": [
      "3.9.7 (default, Sep 16 2021, 16:59:28) [MSC v.1916 64 bit (AMD64)]\n"
     ]
    }
   ],
   "source": [
    "print(sys.version)"
   ]
  },
  {
   "cell_type": "code",
   "execution_count": 4,
   "id": "00197984",
   "metadata": {},
   "outputs": [],
   "source": [
    "import platform"
   ]
  },
  {
   "cell_type": "code",
   "execution_count": 5,
   "id": "dde03dab",
   "metadata": {},
   "outputs": [
    {
     "data": {
      "text/plain": [
       "'3.9.7'"
      ]
     },
     "execution_count": 5,
     "metadata": {},
     "output_type": "execute_result"
    }
   ],
   "source": [
    "platform.python_version()"
   ]
  },
  {
   "cell_type": "code",
   "execution_count": 6,
   "id": "490f6d51",
   "metadata": {},
   "outputs": [
    {
     "name": "stdout",
     "output_type": "stream",
     "text": [
      "hello world\n"
     ]
    }
   ],
   "source": [
    "#a hello world example\n",
    "print('hello world')"
   ]
  },
  {
   "cell_type": "code",
   "execution_count": 7,
   "id": "446def44",
   "metadata": {},
   "outputs": [
    {
     "data": {
      "text/plain": [
       "8"
      ]
     },
     "execution_count": 7,
     "metadata": {},
     "output_type": "execute_result"
    }
   ],
   "source": [
    "3+5"
   ]
  },
  {
   "cell_type": "code",
   "execution_count": 8,
   "id": "f6c61b4d",
   "metadata": {},
   "outputs": [
    {
     "data": {
      "text/plain": [
       "32"
      ]
     },
     "execution_count": 8,
     "metadata": {},
     "output_type": "execute_result"
    }
   ],
   "source": [
    "8*4"
   ]
  },
  {
   "cell_type": "code",
   "execution_count": 9,
   "id": "0bd03340",
   "metadata": {},
   "outputs": [
    {
     "data": {
      "text/plain": [
       "int"
      ]
     },
     "execution_count": 9,
     "metadata": {},
     "output_type": "execute_result"
    }
   ],
   "source": [
    "x=3\n",
    "type(x)"
   ]
  },
  {
   "cell_type": "code",
   "execution_count": 10,
   "id": "ec915aa2",
   "metadata": {},
   "outputs": [
    {
     "data": {
      "text/plain": [
       "float"
      ]
     },
     "execution_count": 10,
     "metadata": {},
     "output_type": "execute_result"
    }
   ],
   "source": [
    "y=2.1\n",
    "type(y)"
   ]
  },
  {
   "cell_type": "code",
   "execution_count": 11,
   "id": "201d8c3e",
   "metadata": {},
   "outputs": [
    {
     "data": {
      "text/plain": [
       "str"
      ]
     },
     "execution_count": 11,
     "metadata": {},
     "output_type": "execute_result"
    }
   ],
   "source": [
    "z='test'\n",
    "type(z)"
   ]
  },
  {
   "cell_type": "code",
   "execution_count": 14,
   "id": "fd32c459",
   "metadata": {},
   "outputs": [
    {
     "name": "stdout",
     "output_type": "stream",
     "text": [
      "2.5\n"
     ]
    },
    {
     "data": {
      "text/plain": [
       "float"
      ]
     },
     "execution_count": 14,
     "metadata": {},
     "output_type": "execute_result"
    }
   ],
   "source": [
    "x=5\n",
    "y=2\n",
    "z=x/y\n",
    "print(z)\n",
    "type(z)"
   ]
  },
  {
   "cell_type": "code",
   "execution_count": 15,
   "id": "43299b8d",
   "metadata": {},
   "outputs": [
    {
     "data": {
      "text/plain": [
       "False"
      ]
     },
     "execution_count": 15,
     "metadata": {},
     "output_type": "execute_result"
    }
   ],
   "source": [
    "y is None"
   ]
  },
  {
   "cell_type": "code",
   "execution_count": 16,
   "id": "231ffdac",
   "metadata": {},
   "outputs": [],
   "source": [
    "float_number=3.67"
   ]
  },
  {
   "cell_type": "code",
   "execution_count": 17,
   "id": "e1dcb125",
   "metadata": {
    "scrolled": true
   },
   "outputs": [
    {
     "data": {
      "text/plain": [
       "3"
      ]
     },
     "execution_count": 17,
     "metadata": {},
     "output_type": "execute_result"
    }
   ],
   "source": [
    "int(float_number)"
   ]
  },
  {
   "cell_type": "code",
   "execution_count": 18,
   "id": "33177aa1",
   "metadata": {},
   "outputs": [
    {
     "data": {
      "text/plain": [
       "'3.67'"
      ]
     },
     "execution_count": 18,
     "metadata": {},
     "output_type": "execute_result"
    }
   ],
   "source": [
    "str(float_number)"
   ]
  },
  {
   "cell_type": "code",
   "execution_count": 19,
   "id": "75917096",
   "metadata": {},
   "outputs": [],
   "source": [
    "first_list = ['Mark', 101,23.6, 'test', None, 11]"
   ]
  },
  {
   "cell_type": "code",
   "execution_count": 20,
   "id": "20e99160",
   "metadata": {},
   "outputs": [
    {
     "data": {
      "text/plain": [
       "['Mark', 101, 23.6, 'test', None, 11]"
      ]
     },
     "execution_count": 20,
     "metadata": {},
     "output_type": "execute_result"
    }
   ],
   "source": [
    "first_list"
   ]
  },
  {
   "cell_type": "code",
   "execution_count": 21,
   "id": "660e9aba",
   "metadata": {},
   "outputs": [
    {
     "data": {
      "text/plain": [
       "['Mark', 101, 23.6, 'test', None, 11, 'Jack']"
      ]
     },
     "execution_count": 21,
     "metadata": {},
     "output_type": "execute_result"
    }
   ],
   "source": [
    "first_list.append('Jack')\n",
    "first_list"
   ]
  },
  {
   "cell_type": "code",
   "execution_count": 23,
   "id": "432944fe",
   "metadata": {},
   "outputs": [
    {
     "data": {
      "text/plain": [
       "[101, 23.6, 'test', None, 11, 'Jack']"
      ]
     },
     "execution_count": 23,
     "metadata": {},
     "output_type": "execute_result"
    }
   ],
   "source": [
    "first_list.remove('Mark')\n",
    "first_list"
   ]
  },
  {
   "cell_type": "code",
   "execution_count": 24,
   "id": "48369caf",
   "metadata": {},
   "outputs": [
    {
     "data": {
      "text/plain": [
       "'test'"
      ]
     },
     "execution_count": 24,
     "metadata": {},
     "output_type": "execute_result"
    }
   ],
   "source": [
    "first_list.pop(2)"
   ]
  },
  {
   "cell_type": "code",
   "execution_count": 25,
   "id": "44a81061",
   "metadata": {},
   "outputs": [
    {
     "data": {
      "text/plain": [
       "[101, 'Smith', 23.6, None, 11, 'Jack']"
      ]
     },
     "execution_count": 25,
     "metadata": {},
     "output_type": "execute_result"
    }
   ],
   "source": [
    "first_list.insert(1,'Smith')\n",
    "first_list"
   ]
  },
  {
   "cell_type": "code",
   "execution_count": 42,
   "id": "d1364dd8",
   "metadata": {},
   "outputs": [
    {
     "data": {
      "text/plain": [
       "{'John': 'john@abc.com', 'Kelly': 'kelly@xyz.org', 'id': [23, 81]}"
      ]
     },
     "execution_count": 42,
     "metadata": {},
     "output_type": "execute_result"
    }
   ],
   "source": [
    "first_dictionary={'John' : 'john@abc.com', 'Kelly' : 'kelly@xyz.org', 'id' : [23,81]}\n",
    "first_dictionary"
   ]
  },
  {
   "cell_type": "code",
   "execution_count": 43,
   "id": "6fed9d55",
   "metadata": {},
   "outputs": [
    {
     "data": {
      "text/plain": [
       "dict_keys(['John', 'Kelly', 'id'])"
      ]
     },
     "execution_count": 43,
     "metadata": {},
     "output_type": "execute_result"
    }
   ],
   "source": [
    "first_dictionary.keys()"
   ]
  },
  {
   "cell_type": "code",
   "execution_count": 44,
   "id": "7ba9d729",
   "metadata": {},
   "outputs": [
    {
     "data": {
      "text/plain": [
       "dict_values(['john@abc.com', 'kelly@xyz.org', [23, 81]])"
      ]
     },
     "execution_count": 44,
     "metadata": {},
     "output_type": "execute_result"
    }
   ],
   "source": [
    "first_dictionary.values()"
   ]
  },
  {
   "cell_type": "code",
   "execution_count": 45,
   "id": "c90007f0",
   "metadata": {},
   "outputs": [
    {
     "data": {
      "text/plain": [
       "'kelly@xyz.org'"
      ]
     },
     "execution_count": 45,
     "metadata": {},
     "output_type": "execute_result"
    }
   ],
   "source": [
    "first_dictionary['Kelly']"
   ]
  },
  {
   "cell_type": "code",
   "execution_count": 46,
   "id": "d9273de9",
   "metadata": {},
   "outputs": [
    {
     "data": {
      "text/plain": [
       "{'John': 'john@abc.com', 'Kelly': 'kelly@xyz.org', 'id': [32, 55]}"
      ]
     },
     "execution_count": 46,
     "metadata": {},
     "output_type": "execute_result"
    }
   ],
   "source": [
    "first_dictionary.update({'id':[32,55]})\n",
    "first_dictionary"
   ]
  },
  {
   "cell_type": "code",
   "execution_count": 47,
   "id": "13839a81",
   "metadata": {
    "scrolled": true
   },
   "outputs": [
    {
     "data": {
      "text/plain": [
       "{'John': 'john@abc.com', 'Kelly': 'kelly@xyz.org'}"
      ]
     },
     "execution_count": 47,
     "metadata": {},
     "output_type": "execute_result"
    }
   ],
   "source": [
    "del first_dictionary['id']\n",
    "first_dictionary"
   ]
  },
  {
   "cell_type": "code",
   "execution_count": 1,
   "id": "86e830cb",
   "metadata": {},
   "outputs": [],
   "source": [
    "student_list=['Tom', 'Jack', 'Nick', 'Sarah', 'Nicole']"
   ]
  },
  {
   "cell_type": "code",
   "execution_count": 2,
   "id": "ae70dde4",
   "metadata": {},
   "outputs": [
    {
     "data": {
      "text/plain": [
       "True"
      ]
     },
     "execution_count": 2,
     "metadata": {},
     "output_type": "execute_result"
    }
   ],
   "source": [
    "'Nick' in student_list"
   ]
  },
  {
   "cell_type": "code",
   "execution_count": 3,
   "id": "ee8cfc78",
   "metadata": {},
   "outputs": [
    {
     "data": {
      "text/plain": [
       "False"
      ]
     },
     "execution_count": 3,
     "metadata": {},
     "output_type": "execute_result"
    }
   ],
   "source": [
    "'Mark' in student_list"
   ]
  },
  {
   "cell_type": "code",
   "execution_count": 6,
   "id": "6b5369c5",
   "metadata": {},
   "outputs": [],
   "source": [
    "word= 'Jack'"
   ]
  },
  {
   "cell_type": "code",
   "execution_count": 7,
   "id": "e13489ca",
   "metadata": {},
   "outputs": [
    {
     "data": {
      "text/plain": [
       "False"
      ]
     },
     "execution_count": 7,
     "metadata": {},
     "output_type": "execute_result"
    }
   ],
   "source": [
    "'t' in word"
   ]
  },
  {
   "cell_type": "code",
   "execution_count": 8,
   "id": "8741d17c",
   "metadata": {},
   "outputs": [
    {
     "data": {
      "text/plain": [
       "True"
      ]
     },
     "execution_count": 8,
     "metadata": {},
     "output_type": "execute_result"
    }
   ],
   "source": [
    "word in student_list"
   ]
  },
  {
   "cell_type": "code",
   "execution_count": 9,
   "id": "a00b346a",
   "metadata": {},
   "outputs": [],
   "source": [
    "test_score_1 = (68,96,71)\n",
    "test_score_2 = (92,87,83)"
   ]
  },
  {
   "cell_type": "code",
   "execution_count": 10,
   "id": "694eae72",
   "metadata": {},
   "outputs": [
    {
     "data": {
      "text/plain": [
       "(68, 96, 71, 92, 87, 83)"
      ]
     },
     "execution_count": 10,
     "metadata": {},
     "output_type": "execute_result"
    }
   ],
   "source": [
    "test_score = test_score_1 + test_score_2\n",
    "test_score"
   ]
  },
  {
   "cell_type": "code",
   "execution_count": 15,
   "id": "ce368b76",
   "metadata": {},
   "outputs": [],
   "source": [
    "def my_first_function(name):\n",
    "    return name"
   ]
  },
  {
   "cell_type": "code",
   "execution_count": 16,
   "id": "f7783782",
   "metadata": {},
   "outputs": [
    {
     "name": "stdout",
     "output_type": "stream",
     "text": [
      "Jack\n"
     ]
    }
   ],
   "source": [
    "print(my_first_function('Jack'))"
   ]
  },
  {
   "cell_type": "code",
   "execution_count": 17,
   "id": "4b027246",
   "metadata": {},
   "outputs": [],
   "source": [
    "def profile():\n",
    "    age = 21\n",
    "    height=5.5\n",
    "    weight=130\n",
    "    return age,height,weight"
   ]
  },
  {
   "cell_type": "code",
   "execution_count": 18,
   "id": "8da88cfc",
   "metadata": {},
   "outputs": [],
   "source": [
    "age, height, weight = profile()"
   ]
  },
  {
   "cell_type": "code",
   "execution_count": 20,
   "id": "3ed7dd35",
   "metadata": {},
   "outputs": [
    {
     "name": "stdout",
     "output_type": "stream",
     "text": [
      "21 5.5 130\n"
     ]
    }
   ],
   "source": [
    "print (age, height, weight)"
   ]
  },
  {
   "cell_type": "code",
   "execution_count": 21,
   "id": "70e0b271",
   "metadata": {},
   "outputs": [],
   "source": [
    "store_list = ['McDonnald', 'Taco Bell', 'Dunkin', 'Wendys', 'Chipotle']"
   ]
  },
  {
   "cell_type": "code",
   "execution_count": 24,
   "id": "1a6c71b1",
   "metadata": {},
   "outputs": [
    {
     "name": "stdout",
     "output_type": "stream",
     "text": [
      "0 McDonnald\n",
      "1 Taco Bell\n",
      "2 Dunkin\n",
      "3 Wendys\n",
      "4 Chipotle\n"
     ]
    }
   ],
   "source": [
    "for position,name in enumerate(store_list):\n",
    "    print(position, name)"
   ]
  },
  {
   "cell_type": "code",
   "execution_count": 26,
   "id": "803b411a",
   "metadata": {},
   "outputs": [],
   "source": [
    "store_map = dict((name,position) for position, name in enumerate(store_list))"
   ]
  },
  {
   "cell_type": "code",
   "execution_count": 27,
   "id": "c321dff1",
   "metadata": {},
   "outputs": [
    {
     "data": {
      "text/plain": [
       "{'McDonnald': 0, 'Taco Bell': 1, 'Dunkin': 2, 'Wendys': 3, 'Chipotle': 4}"
      ]
     },
     "execution_count": 27,
     "metadata": {},
     "output_type": "execute_result"
    }
   ],
   "source": [
    "store_map"
   ]
  },
  {
   "cell_type": "code",
   "execution_count": 28,
   "id": "e15618c9",
   "metadata": {},
   "outputs": [
    {
     "data": {
      "text/plain": [
       "[18, 24, 43, 91]"
      ]
     },
     "execution_count": 28,
     "metadata": {},
     "output_type": "execute_result"
    }
   ],
   "source": [
    "sorted([91,43,18,24])"
   ]
  },
  {
   "cell_type": "code",
   "execution_count": 29,
   "id": "4180541a",
   "metadata": {
    "scrolled": true
   },
   "outputs": [
    {
     "data": {
      "text/plain": [
       "[' ',\n",
       " ' ',\n",
       " 'a',\n",
       " 'a',\n",
       " 'c',\n",
       " 'c',\n",
       " 'd',\n",
       " 'e',\n",
       " 'e',\n",
       " 'e',\n",
       " 'h',\n",
       " 'i',\n",
       " 'n',\n",
       " 's',\n",
       " 't',\n",
       " 't']"
      ]
     },
     "execution_count": 29,
     "metadata": {},
     "output_type": "execute_result"
    }
   ],
   "source": [
    "sorted('the data science')"
   ]
  },
  {
   "cell_type": "code",
   "execution_count": 32,
   "id": "f8a5125d",
   "metadata": {},
   "outputs": [
    {
     "data": {
      "text/plain": [
       "[0, 1, 2, 3, 4, 5, 6, 7, 8, 9, 10, 11, 12, 13, 14]"
      ]
     },
     "execution_count": 32,
     "metadata": {},
     "output_type": "execute_result"
    }
   ],
   "source": [
    "num_list=range(15)\n",
    "list(num_list)"
   ]
  },
  {
   "cell_type": "code",
   "execution_count": 31,
   "id": "09996ad9",
   "metadata": {},
   "outputs": [
    {
     "data": {
      "text/plain": [
       "[14, 13, 12, 11, 10, 9, 8, 7, 6, 5, 4, 3, 2, 1, 0]"
      ]
     },
     "execution_count": 31,
     "metadata": {},
     "output_type": "execute_result"
    }
   ],
   "source": [
    "list(reversed(num_list))"
   ]
  },
  {
   "cell_type": "code",
   "execution_count": 33,
   "id": "8f3ce9c0",
   "metadata": {},
   "outputs": [],
   "source": [
    "subjects= ['math', 'statistics', 'algebra']\n",
    "subject_count = ['one', 'two', 'three']"
   ]
  },
  {
   "cell_type": "code",
   "execution_count": 36,
   "id": "b6c5a0c1",
   "metadata": {},
   "outputs": [
    {
     "name": "stdout",
     "output_type": "stream",
     "text": [
      "<zip object at 0x0000024ECF4EAB00>\n"
     ]
    }
   ],
   "source": [
    "total_subject = zip(subjects, subject_count)\n",
    "total_subject"
   ]
  },
  {
   "cell_type": "code",
   "execution_count": 38,
   "id": "60271fc6",
   "metadata": {},
   "outputs": [
    {
     "data": {
      "text/plain": [
       "list"
      ]
     },
     "execution_count": 38,
     "metadata": {},
     "output_type": "execute_result"
    }
   ],
   "source": [
    "type(subjects)"
   ]
  },
  {
   "cell_type": "code",
   "execution_count": 39,
   "id": "8f290a4a",
   "metadata": {},
   "outputs": [],
   "source": [
    "age=21"
   ]
  },
  {
   "cell_type": "code",
   "execution_count": 40,
   "id": "19f6d6ef",
   "metadata": {},
   "outputs": [
    {
     "name": "stdout",
     "output_type": "stream",
     "text": [
      "adult\n"
     ]
    }
   ],
   "source": [
    "if age<18:\n",
    "    print('minor')\n",
    "else:\n",
    "    print('adult')"
   ]
  },
  {
   "cell_type": "code",
   "execution_count": 41,
   "id": "7b897061",
   "metadata": {},
   "outputs": [],
   "source": [
    "marks=81"
   ]
  },
  {
   "cell_type": "code",
   "execution_count": 42,
   "id": "5680f2a2",
   "metadata": {},
   "outputs": [
    {
     "name": "stdout",
     "output_type": "stream",
     "text": [
      "grade B\n"
     ]
    }
   ],
   "source": [
    "if marks>90:\n",
    "    print('grade A')\n",
    "elif 80<=marks<=90:\n",
    "    print('grade B')"
   ]
  },
  {
   "cell_type": "code",
   "execution_count": 43,
   "id": "27e13c67",
   "metadata": {},
   "outputs": [],
   "source": [
    "stock_tickers = ['AAPL', 'MSFT', 'GOOGL', None, 'AMZN', 'CSCO', 'ORCL']"
   ]
  },
  {
   "cell_type": "code",
   "execution_count": 44,
   "id": "240f1491",
   "metadata": {},
   "outputs": [
    {
     "name": "stdout",
     "output_type": "stream",
     "text": [
      "AAPL\n",
      "MSFT\n",
      "GOOGL\n",
      "AMZN\n",
      "CSCO\n",
      "ORCL\n"
     ]
    }
   ],
   "source": [
    "for tickers in (stock_tickers):\n",
    "    if(tickers is None):\n",
    "        continue\n",
    "    print(tickers)"
   ]
  },
  {
   "cell_type": "code",
   "execution_count": 45,
   "id": "43f1455b",
   "metadata": {},
   "outputs": [
    {
     "name": "stdout",
     "output_type": "stream",
     "text": [
      "AAPL\n",
      "MSFT\n",
      "GOOGL\n"
     ]
    }
   ],
   "source": [
    "for tickers in (stock_tickers):\n",
    "    if(tickers is None):\n",
    "        break\n",
    "    print(tickers)"
   ]
  },
  {
   "cell_type": "code",
   "execution_count": 46,
   "id": "fb8d94f4",
   "metadata": {},
   "outputs": [
    {
     "name": "stdout",
     "output_type": "stream",
     "text": [
      "100\n",
      "99\n",
      "98\n",
      "97\n",
      "96\n"
     ]
    }
   ],
   "source": [
    "temperature=100\n",
    "while temperature > 95:\n",
    "    print(temperature)\n",
    "    temperature = temperature -1"
   ]
  },
  {
   "cell_type": "code",
   "execution_count": 47,
   "id": "d63982f0",
   "metadata": {},
   "outputs": [],
   "source": [
    "def test_float(number):\n",
    "    try:\n",
    "        return float(number)\n",
    "    except ValueError:\n",
    "        return 'not a number, the input value is ', number"
   ]
  },
  {
   "cell_type": "code",
   "execution_count": 49,
   "id": "25acfd6b",
   "metadata": {},
   "outputs": [
    {
     "data": {
      "text/plain": [
       "8.254"
      ]
     },
     "execution_count": 49,
     "metadata": {},
     "output_type": "execute_result"
    }
   ],
   "source": [
    "test_float(8.254)\n",
    "test_float('test')"
   ]
  },
  {
   "cell_type": "code",
   "execution_count": 53,
   "id": "80ee28c5",
   "metadata": {},
   "outputs": [
    {
     "data": {
      "text/plain": [
       "[]"
      ]
     },
     "execution_count": 53,
     "metadata": {},
     "output_type": "execute_result"
    }
   ],
   "source": [
    "lista=[3,1,5,8,9,6,2]\n",
    "lista[4:-0]"
   ]
  }
 ],
 "metadata": {
  "kernelspec": {
   "display_name": "Python 3 (ipykernel)",
   "language": "python",
   "name": "python3"
  },
  "language_info": {
   "codemirror_mode": {
    "name": "ipython",
    "version": 3
   },
   "file_extension": ".py",
   "mimetype": "text/x-python",
   "name": "python",
   "nbconvert_exporter": "python",
   "pygments_lexer": "ipython3",
   "version": "3.9.7"
  }
 },
 "nbformat": 4,
 "nbformat_minor": 5
}
